{
 "cells": [
  {
   "cell_type": "code",
   "execution_count": 1,
   "id": "debb8b03",
   "metadata": {},
   "outputs": [],
   "source": [
    "from skimage import io\n",
    "from matplotlib import pyplot as plt\n",
    "from PIL import Image\n",
    "Image.MAX_IMAGE_PIXELS= None\n",
    "%matplotlib qt   \n",
    "\n",
    "import rasterio\n",
    "import rasterio.features\n",
    "import rasterio.warp\n",
    "from rasterio.plot import show\n",
    "from rasterio.transform import Affine\n",
    "from rasterio.enums import Resampling\n",
    "import numpy as np\n",
    "import math\n",
    "from scipy.ndimage import gaussian_filter\n",
    "from rasterio.windows import from_bounds\n",
    "from rasterio.windows import Window\n",
    "from rasterio.warp import calculate_default_transform, reproject, Resampling\n",
    "from rasterio.enums import Resampling\n",
    "from scipy.interpolate import RegularGridInterpolator\n",
    "from scipy.stats import entropy\n",
    "import random"
   ]
  },
  {
   "cell_type": "markdown",
   "id": "16d295f3",
   "metadata": {},
   "source": [
    "## Loading Data"
   ]
  },
  {
   "cell_type": "code",
   "execution_count": 8,
   "id": "ed961bd5-ee2e-417b-8a79-082fc33a19b4",
   "metadata": {},
   "outputs": [
    {
     "data": {
      "text/plain": [
       "'/Users/sking3/Desktop/Emily work'"
      ]
     },
     "execution_count": 8,
     "metadata": {},
     "output_type": "execute_result"
    }
   ],
   "source": [
    "import os \n",
    "os.getcwd()"
   ]
  },
  {
   "cell_type": "code",
   "execution_count": 9,
   "id": "6be98683",
   "metadata": {},
   "outputs": [],
   "source": [
    "capella = rasterio.open('Capella_CityG.tif')"
   ]
  },
  {
   "cell_type": "code",
   "execution_count": 10,
   "id": "224fd4bb",
   "metadata": {},
   "outputs": [],
   "source": [
    "sentinel = rasterio.open('Sentinel1_CityG.tif')"
   ]
  },
  {
   "cell_type": "code",
   "execution_count": 11,
   "id": "f686f583",
   "metadata": {},
   "outputs": [
    {
     "data": {
      "text/plain": [
       "BoundingBox(left=350069.1667, bottom=4102365.3308, right=358344.2167, top=4110486.0308)"
      ]
     },
     "execution_count": 11,
     "metadata": {},
     "output_type": "execute_result"
    }
   ],
   "source": [
    "capella.bounds"
   ]
  },
  {
   "cell_type": "code",
   "execution_count": 12,
   "id": "bb7c4bde",
   "metadata": {},
   "outputs": [
    {
     "data": {
      "text/plain": [
       "BoundingBox(left=350799.0494, bottom=4102135.0859, right=358359.0494, top=4111635.0859)"
      ]
     },
     "execution_count": 12,
     "metadata": {},
     "output_type": "execute_result"
    }
   ],
   "source": [
    "sentinel.bounds"
   ]
  },
  {
   "cell_type": "code",
   "execution_count": 18,
   "id": "85ee3869-9cde-4c5e-b33a-fe4189f9da65",
   "metadata": {},
   "outputs": [],
   "source": [
    "fig1 = plt.figure()\n",
    "ax = fig1.add_subplot(111)\n",
    "ax.imshow(sentinel.read(1))\n",
    "plt.show()"
   ]
  },
  {
   "cell_type": "markdown",
   "id": "c70f6e61",
   "metadata": {},
   "source": [
    "## Plan A (Sentinel 1 & Capella)"
   ]
  },
  {
   "cell_type": "markdown",
   "id": "79b83945",
   "metadata": {},
   "source": [
    "**Step 1:** Downgrade Capella to pixel size $5m\\times5m$"
   ]
  },
  {
   "cell_type": "code",
   "execution_count": 22,
   "id": "3cc35390",
   "metadata": {},
   "outputs": [],
   "source": [
    "capella5_downgraded_band, capella5_pixel_w, capella5_pixel_h = bilinear_interpolation(capella, 5/0.35, 5/0.35)"
   ]
  },
  {
   "cell_type": "code",
   "execution_count": 24,
   "id": "6cdf2377",
   "metadata": {},
   "outputs": [],
   "source": [
    "# create_newtiff(capella, capella5_downgraded_band, capella5_pixel_w, capella5_pixel_h)"
   ]
  },
  {
   "cell_type": "code",
   "execution_count": 23,
   "id": "eedf7c36",
   "metadata": {},
   "outputs": [],
   "source": [
    "capella5_downgraded = rasterio.open('/Users/qiuqi/Downloads/capella5_downgraded.tif')"
   ]
  },
  {
   "cell_type": "code",
   "execution_count": 24,
   "id": "75303490",
   "metadata": {},
   "outputs": [
    {
     "data": {
      "text/plain": [
       "array([[0, 0, 0, ..., 0, 0, 0],\n",
       "       [0, 0, 0, ..., 0, 0, 0],\n",
       "       [0, 0, 0, ..., 0, 0, 0],\n",
       "       ...,\n",
       "       [0, 0, 0, ..., 0, 0, 0],\n",
       "       [0, 0, 0, ..., 0, 0, 0],\n",
       "       [0, 0, 0, ..., 0, 0, 0]], dtype=uint8)"
      ]
     },
     "execution_count": 24,
     "metadata": {},
     "output_type": "execute_result"
    }
   ],
   "source": [
    "# using regrid function to do bilinear interpolation\n",
    "band = capella.read(1)\n",
    "ca_5 = regrid(band, 1655, 1624)\n",
    "create_newtiff(capella, ca_5, capella5_pixel_w, capella5_pixel_h)\n",
    "capella5_downgraded = rasterio.open('/Users/qiuqi/Downloads/New_output.tif')\n",
    "capella5_downgraded.read(1)"
   ]
  },
  {
   "cell_type": "code",
   "execution_count": 25,
   "id": "56e140ff",
   "metadata": {},
   "outputs": [
    {
     "data": {
      "text/plain": [
       "2687720"
      ]
     },
     "execution_count": 25,
     "metadata": {},
     "output_type": "execute_result"
    }
   ],
   "source": [
    "sum(sum(capella5_downgraded.read(1)==capella5_downgraded.read(1))) # same output"
   ]
  },
  {
   "cell_type": "markdown",
   "id": "39bf3134",
   "metadata": {},
   "source": [
    "**Step 2:** Upgraded Sentinel1 to pixel size $5m\\times5m$"
   ]
  },
  {
   "cell_type": "code",
   "execution_count": 26,
   "id": "c019a93d",
   "metadata": {},
   "outputs": [],
   "source": [
    "sentinel5_upgraded_band, sentinel5_pixel_w, sentinel5_pixel_h = bilinear_interpolation(sentinel, 0.5, 0.5)"
   ]
  },
  {
   "cell_type": "code",
   "execution_count": 281,
   "id": "fef72097",
   "metadata": {},
   "outputs": [],
   "source": [
    "# create_newtiff(sentinel, sentinel5_upgraded_band, sentinel5_pixel_w, sentinel5_pixel_h)"
   ]
  },
  {
   "cell_type": "code",
   "execution_count": 27,
   "id": "35e345ec",
   "metadata": {},
   "outputs": [],
   "source": [
    "sentinel5_upgraded = rasterio.open('/Users/qiuqi/Downloads/sentinel5_upgraded.tif')"
   ]
  },
  {
   "cell_type": "code",
   "execution_count": 28,
   "id": "11140971",
   "metadata": {
    "scrolled": true
   },
   "outputs": [
    {
     "data": {
      "text/plain": [
       "BoundingBox(left=350799.0494, bottom=4102135.0859, right=358359.0494, top=4111635.0859)"
      ]
     },
     "execution_count": 28,
     "metadata": {},
     "output_type": "execute_result"
    }
   ],
   "source": [
    "sentinel5_upgraded.bounds"
   ]
  },
  {
   "cell_type": "code",
   "execution_count": 57,
   "id": "220d154f",
   "metadata": {},
   "outputs": [
    {
     "data": {
      "text/plain": [
       "BoundingBox(left=350069.1667, bottom=4102366.0308000003, right=358344.1667, top=4110486.0308)"
      ]
     },
     "execution_count": 57,
     "metadata": {},
     "output_type": "execute_result"
    }
   ],
   "source": [
    "capella5_downgraded.bounds"
   ]
  },
  {
   "cell_type": "markdown",
   "id": "d619ab50",
   "metadata": {},
   "source": [
    "**Step 3:** Align downgraded Capella and upgraded Sentinel1"
   ]
  },
  {
   "cell_type": "code",
   "execution_count": 29,
   "id": "cc4e818c",
   "metadata": {},
   "outputs": [],
   "source": [
    "align(capella5_downgraded, sentinel5_upgraded)"
   ]
  },
  {
   "cell_type": "code",
   "execution_count": 62,
   "id": "6f042fdf",
   "metadata": {},
   "outputs": [
    {
     "data": {
      "text/plain": [
       "Affine(5.0, 0.0, 350799.0494,\n",
       "       0.0, -5.0, 4111635.0859)"
      ]
     },
     "execution_count": 62,
     "metadata": {},
     "output_type": "execute_result"
    }
   ],
   "source": [
    "sentinel5_upgraded.transform"
   ]
  },
  {
   "cell_type": "code",
   "execution_count": 61,
   "id": "c14e0696",
   "metadata": {},
   "outputs": [
    {
     "data": {
      "text/plain": [
       "(Affine(4.999999999999994, 0.0, 350794.9999999996,\n",
       "        0.0, -4.999999999999828, 4111639.9999998584),\n",
       " 1513,\n",
       " 1902)"
      ]
     },
     "execution_count": 61,
     "metadata": {},
     "output_type": "execute_result"
    }
   ],
   "source": [
    "rasterio.warp.aligned_target(sentinel5_upgraded.transform, sentinel5_upgraded.width, sentinel5_upgraded.height, capella5_downgraded.res)"
   ]
  },
  {
   "cell_type": "code",
   "execution_count": 30,
   "id": "858464c4",
   "metadata": {},
   "outputs": [],
   "source": [
    "sentinel5_aligned = rasterio.open('/Users/qiuqi/Downloads/groundtruth.tif')"
   ]
  },
  {
   "cell_type": "code",
   "execution_count": 63,
   "id": "4ffe2942",
   "metadata": {},
   "outputs": [
    {
     "data": {
      "text/plain": [
       "{'driver': 'GTiff',\n",
       " 'dtype': 'uint8',\n",
       " 'nodata': 0.0,\n",
       " 'width': 1512,\n",
       " 'height': 1900,\n",
       " 'count': 1,\n",
       " 'crs': CRS.from_epsg(32637),\n",
       " 'transform': Affine(4.999999999999994, 0.0, 350069.1667,\n",
       "        0.0, -4.999999999999828, 4110486.0308)}"
      ]
     },
     "execution_count": 63,
     "metadata": {},
     "output_type": "execute_result"
    }
   ],
   "source": [
    "sentinel5_aligned.meta"
   ]
  },
  {
   "cell_type": "code",
   "execution_count": 32,
   "id": "0c8a09f0",
   "metadata": {},
   "outputs": [
    {
     "data": {
      "text/plain": [
       "BoundingBox(left=350069.1667, bottom=4102366.0308000003, right=358344.1667, top=4110486.0308)"
      ]
     },
     "execution_count": 32,
     "metadata": {},
     "output_type": "execute_result"
    }
   ],
   "source": [
    "capella5_downgraded.bounds"
   ]
  },
  {
   "cell_type": "markdown",
   "id": "f87b00e9",
   "metadata": {},
   "source": [
    "**Step 4:** Extract overlapped pixels (or not?)"
   ]
  },
  {
   "cell_type": "code",
   "execution_count": 33,
   "id": "1ea68edc",
   "metadata": {},
   "outputs": [
    {
     "name": "stdout",
     "output_type": "stream",
     "text": [
      "BoundingBox(left=350069.1667, bottom=4100986.0308000003, right=357629.1667, top=4110486.0308)\n",
      "BoundingBox(left=350069.1667, bottom=4102366.0308000003, right=358344.1667, top=4110486.0308)\n",
      "(350069.1667, 4102366.0308000003, 357629.1667, 4110486.0308)\n",
      "BoundingBox(left=350069.1667, bottom=4102366.0308000003, right=357629.1667, top=4110486.0308)\n"
     ]
    }
   ],
   "source": [
    "extract_overlap(sentinel5_aligned, capella5_downgraded)"
   ]
  },
  {
   "cell_type": "markdown",
   "id": "c708a265",
   "metadata": {},
   "source": [
    "**Step 5:** Prepare feature vector"
   ]
  },
  {
   "cell_type": "code",
   "execution_count": 34,
   "id": "a6d40f00",
   "metadata": {},
   "outputs": [],
   "source": [
    "sen_band = sentinel5_aligned.read(1)\n",
    "cap_band = capella5_downgraded.read(1)"
   ]
  },
  {
   "cell_type": "markdown",
   "id": "5468e882",
   "metadata": {},
   "source": [
    "Training data(500)"
   ]
  },
  {
   "cell_type": "code",
   "execution_count": 35,
   "id": "fbeaca8e",
   "metadata": {},
   "outputs": [],
   "source": [
    "train_index_vector, train_feature_vector = generate_feature_vector(sen_band, cap_band, 3, 500)\n",
    "train_label_vector = generate_label_vector(capella5_downgraded.read(1), train_index_vector)"
   ]
  },
  {
   "cell_type": "markdown",
   "id": "719c6d86",
   "metadata": {},
   "source": [
    "Testing data (100)"
   ]
  },
  {
   "cell_type": "code",
   "execution_count": 36,
   "id": "7968b8a8",
   "metadata": {},
   "outputs": [],
   "source": [
    "test_index_vector, test_feature_vector = generate_feature_vector(sen_band, cap_band, 3, 100)\n",
    "test_label_vector = generate_label_vector(capella5_downgraded.read(1), test_index_vector)"
   ]
  },
  {
   "cell_type": "markdown",
   "id": "9fb6f2e9",
   "metadata": {},
   "source": [
    "**Step 6:** Train models"
   ]
  },
  {
   "cell_type": "markdown",
   "id": "2656ddce",
   "metadata": {},
   "source": [
    "Random Forest"
   ]
  },
  {
   "cell_type": "code",
   "execution_count": 37,
   "id": "f56c340e",
   "metadata": {},
   "outputs": [
    {
     "name": "stdout",
     "output_type": "stream",
     "text": [
      "Mean Absolute Error: 23.35 degrees.\n",
      "Accuracy: -inf %.\n"
     ]
    },
    {
     "name": "stderr",
     "output_type": "stream",
     "text": [
      "/var/folders/jt/fbh94k2946177w36lgmd11tw0000gn/T/ipykernel_29807/1734046684.py:10: RuntimeWarning: divide by zero encountered in true_divide\n",
      "  mape = 100 * (errors / test_label_vector)\n"
     ]
    }
   ],
   "source": [
    "from sklearn.ensemble import RandomForestRegressor\n",
    "rf = RandomForestRegressor(n_estimators = 1000, random_state = 42)\n",
    "rf.fit(train_feature_vector, train_label_vector);\n",
    "predictions = rf.predict(test_feature_vector)\n",
    "# Calculate the absolute errors\n",
    "errors = abs(predictions - test_label_vector)\n",
    "# Print out the mean absolute error (mae)\n",
    "print('Mean Absolute Error:', round(np.mean(errors), 2), 'degrees.')\n",
    "# Calculate mean absolute percentage error (MAPE)\n",
    "mape = 100 * (errors / test_label_vector)\n",
    "# Calculate and display accuracy\n",
    "accuracy = 100 - np.mean(mape)\n",
    "print('Accuracy:', round(accuracy, 2), '%.')"
   ]
  },
  {
   "cell_type": "markdown",
   "id": "1912ffc8",
   "metadata": {},
   "source": [
    "## Plan B (Capella Only)"
   ]
  },
  {
   "cell_type": "code",
   "execution_count": 38,
   "id": "a3b9f943",
   "metadata": {},
   "outputs": [
    {
     "data": {
      "text/plain": [
       "{'driver': 'GTiff',\n",
       " 'dtype': 'uint8',\n",
       " 'nodata': None,\n",
       " 'width': 23643,\n",
       " 'height': 23202,\n",
       " 'count': 4,\n",
       " 'crs': CRS.from_epsg(32637),\n",
       " 'transform': Affine(0.34999999999999953, 0.0, 350069.1667,\n",
       "        0.0, -0.34999999999998793, 4110486.0308)}"
      ]
     },
     "execution_count": 38,
     "metadata": {},
     "output_type": "execute_result"
    }
   ],
   "source": [
    "capella.meta"
   ]
  },
  {
   "cell_type": "code",
   "execution_count": 39,
   "id": "9ec41f71",
   "metadata": {},
   "outputs": [],
   "source": [
    "capella10_downgraded_band, downgraded_pixel_w, downgraded_pixel_h = bilinear_interpolation(capella, 10/0.35, 10/0.35)"
   ]
  },
  {
   "cell_type": "code",
   "execution_count": 40,
   "id": "e7d20b20",
   "metadata": {},
   "outputs": [],
   "source": [
    "capella10_downgraded_band = regrid(capella.read(1), 828, 812)"
   ]
  },
  {
   "cell_type": "code",
   "execution_count": 41,
   "id": "75676589",
   "metadata": {},
   "outputs": [],
   "source": [
    "create_newtiff(capella, capella10_downgraded_band, 10, 10)"
   ]
  },
  {
   "cell_type": "code",
   "execution_count": 48,
   "id": "741e51cf",
   "metadata": {},
   "outputs": [],
   "source": [
    "capella10_downgraded = rasterio.open('/Users/qiuqi/Downloads/capella10_downgraded.tif')\n",
    "# show_tiff(capella_downgraded)"
   ]
  },
  {
   "cell_type": "code",
   "execution_count": 46,
   "id": "68b11304",
   "metadata": {},
   "outputs": [],
   "source": [
    "capella10_downgraded = rasterio.open('/Users/qiuqi/Downloads/New_output.tif')"
   ]
  },
  {
   "cell_type": "markdown",
   "id": "ab532fda",
   "metadata": {},
   "source": [
    "**Step 2:** Compare entropy with real sentinel1, add proper gaussian blur"
   ]
  },
  {
   "cell_type": "markdown",
   "id": "422f0575",
   "metadata": {},
   "source": [
    "Sentinel1 entropy"
   ]
  },
  {
   "cell_type": "code",
   "execution_count": 43,
   "id": "5a7d03c1",
   "metadata": {},
   "outputs": [
    {
     "data": {
      "text/plain": [
       "0.5782087989992741"
      ]
     },
     "execution_count": 43,
     "metadata": {},
     "output_type": "execute_result"
    }
   ],
   "source": [
    "sen_en = compute_entropy(sentinel.read(1))\n",
    "sen_en"
   ]
  },
  {
   "cell_type": "markdown",
   "id": "a6ec8b5d",
   "metadata": {},
   "source": [
    "Blurred capella (fake sentinel1) entropy"
   ]
  },
  {
   "cell_type": "code",
   "execution_count": 44,
   "id": "806ede41",
   "metadata": {},
   "outputs": [
    {
     "data": {
      "text/plain": [
       "2.5"
      ]
     },
     "execution_count": 44,
     "metadata": {},
     "output_type": "execute_result"
    }
   ],
   "source": [
    "find_proper_sigma(capella10_downgraded_band, sen_en)"
   ]
  },
  {
   "cell_type": "code",
   "execution_count": 56,
   "id": "7e81bb19",
   "metadata": {},
   "outputs": [
    {
     "data": {
      "text/plain": [
       "0.5114612240474095"
      ]
     },
     "execution_count": 56,
     "metadata": {},
     "output_type": "execute_result"
    }
   ],
   "source": [
    "compute_entropy(capella10_downgraded_band)"
   ]
  },
  {
   "cell_type": "code",
   "execution_count": 54,
   "id": "23f08c50",
   "metadata": {},
   "outputs": [
    {
     "data": {
      "text/plain": [
       "0.3167977759745089"
      ]
     },
     "execution_count": 54,
     "metadata": {},
     "output_type": "execute_result"
    }
   ],
   "source": [
    "band_blurred = gaussian_filter(capella10_downgraded_band, sigma=0.8)\n",
    "compute_entropy(band_blurred)"
   ]
  },
  {
   "cell_type": "code",
   "execution_count": 55,
   "id": "0c0e3551",
   "metadata": {},
   "outputs": [],
   "source": [
    "create_newtiff(capella, band_blurred, 10, 10)\n",
    "capella10_blur = rasterio.open('/Users/qiuqi/Downloads/capella10_blur.tif')\n",
    "# show_tiff(capella10_blur)"
   ]
  },
  {
   "cell_type": "markdown",
   "id": "ea15c54c",
   "metadata": {},
   "source": [
    "**Step 3:** prepare consistent pixel feature matrix"
   ]
  },
  {
   "cell_type": "code",
   "execution_count": 51,
   "id": "ad0579e3",
   "metadata": {},
   "outputs": [],
   "source": [
    "capella_blur_band = capella10_blur.read(1)"
   ]
  },
  {
   "cell_type": "code",
   "execution_count": 476,
   "id": "22ea4b7b",
   "metadata": {},
   "outputs": [
    {
     "ename": "KeyboardInterrupt",
     "evalue": "",
     "output_type": "error",
     "traceback": [
      "\u001b[0;31m---------------------------------------------------------------------------\u001b[0m",
      "\u001b[0;31mKeyboardInterrupt\u001b[0m                         Traceback (most recent call last)",
      "Input \u001b[0;32mIn [476]\u001b[0m, in \u001b[0;36m<cell line: 1>\u001b[0;34m()\u001b[0m\n\u001b[0;32m----> 1\u001b[0m preprocessed_band \u001b[38;5;241m=\u001b[39m \u001b[43mregrid\u001b[49m\u001b[43m(\u001b[49m\u001b[43mcapella_blur_band\u001b[49m\u001b[43m,\u001b[49m\u001b[43m \u001b[49m\u001b[38;5;241;43m23657\u001b[39;49m\u001b[43m,\u001b[49m\u001b[43m \u001b[49m\u001b[38;5;241;43m23200\u001b[39;49m\u001b[43m)\u001b[49m\n",
      "Input \u001b[0;32mIn [148]\u001b[0m, in \u001b[0;36mregrid\u001b[0;34m(data, out_x, out_y)\u001b[0m\n\u001b[1;32m      5\u001b[0m interpolating_function \u001b[38;5;241m=\u001b[39m RegularGridInterpolator((y, x), data)\n\u001b[1;32m      7\u001b[0m yv, xv \u001b[38;5;241m=\u001b[39m np\u001b[38;5;241m.\u001b[39mmeshgrid(np\u001b[38;5;241m.\u001b[39mlinspace(\u001b[38;5;241m0\u001b[39m, \u001b[38;5;241m1.0\u001b[39m\u001b[38;5;241m/\u001b[39mm, out_y), np\u001b[38;5;241m.\u001b[39mlinspace(\u001b[38;5;241m0\u001b[39m, \u001b[38;5;241m1.0\u001b[39m\u001b[38;5;241m/\u001b[39mm, out_x))\n\u001b[0;32m----> 9\u001b[0m \u001b[38;5;28;01mreturn\u001b[39;00m \u001b[43minterpolating_function\u001b[49m\u001b[43m(\u001b[49m\u001b[43m(\u001b[49m\u001b[43mxv\u001b[49m\u001b[43m,\u001b[49m\u001b[43m \u001b[49m\u001b[43myv\u001b[49m\u001b[43m)\u001b[49m\u001b[43m)\u001b[49m\n",
      "File \u001b[0;32m~/opt/anaconda3/lib/python3.9/site-packages/scipy/interpolate/interpolate.py:2516\u001b[0m, in \u001b[0;36mRegularGridInterpolator.__call__\u001b[0;34m(self, xi, method)\u001b[0m\n\u001b[1;32m   2513\u001b[0m \u001b[38;5;28;01mif\u001b[39;00m \u001b[38;5;28mself\u001b[39m\u001b[38;5;241m.\u001b[39mbounds_error:\n\u001b[1;32m   2514\u001b[0m     \u001b[38;5;28;01mfor\u001b[39;00m i, p \u001b[38;5;129;01min\u001b[39;00m \u001b[38;5;28menumerate\u001b[39m(xi\u001b[38;5;241m.\u001b[39mT):\n\u001b[1;32m   2515\u001b[0m         \u001b[38;5;28;01mif\u001b[39;00m \u001b[38;5;129;01mnot\u001b[39;00m np\u001b[38;5;241m.\u001b[39mlogical_and(np\u001b[38;5;241m.\u001b[39mall(\u001b[38;5;28mself\u001b[39m\u001b[38;5;241m.\u001b[39mgrid[i][\u001b[38;5;241m0\u001b[39m] \u001b[38;5;241m<\u001b[39m\u001b[38;5;241m=\u001b[39m p),\n\u001b[0;32m-> 2516\u001b[0m                               np\u001b[38;5;241m.\u001b[39mall(\u001b[43mp\u001b[49m\u001b[43m \u001b[49m\u001b[38;5;241;43m<\u001b[39;49m\u001b[38;5;241;43m=\u001b[39;49m\u001b[43m \u001b[49m\u001b[38;5;28;43mself\u001b[39;49m\u001b[38;5;241;43m.\u001b[39;49m\u001b[43mgrid\u001b[49m\u001b[43m[\u001b[49m\u001b[43mi\u001b[49m\u001b[43m]\u001b[49m\u001b[43m[\u001b[49m\u001b[38;5;241;43m-\u001b[39;49m\u001b[38;5;241;43m1\u001b[39;49m\u001b[43m]\u001b[49m)):\n\u001b[1;32m   2517\u001b[0m             \u001b[38;5;28;01mraise\u001b[39;00m \u001b[38;5;167;01mValueError\u001b[39;00m(\u001b[38;5;124m\"\u001b[39m\u001b[38;5;124mOne of the requested xi is out of bounds \u001b[39m\u001b[38;5;124m\"\u001b[39m\n\u001b[1;32m   2518\u001b[0m                              \u001b[38;5;124m\"\u001b[39m\u001b[38;5;124min dimension \u001b[39m\u001b[38;5;132;01m%d\u001b[39;00m\u001b[38;5;124m\"\u001b[39m \u001b[38;5;241m%\u001b[39m i)\n\u001b[1;32m   2520\u001b[0m indices, norm_distances, out_of_bounds \u001b[38;5;241m=\u001b[39m \u001b[38;5;28mself\u001b[39m\u001b[38;5;241m.\u001b[39m_find_indices(xi\u001b[38;5;241m.\u001b[39mT)\n",
      "\u001b[0;31mKeyboardInterrupt\u001b[0m: "
     ]
    }
   ],
   "source": [
    "preprocessed_band = regrid(capella_blur_band, 23657, 23200)"
   ]
  },
  {
   "cell_type": "code",
   "execution_count": 53,
   "id": "db9353d5",
   "metadata": {},
   "outputs": [],
   "source": [
    "create_newtiff(capella, preprocessed_band, 0.35, 0.35)"
   ]
  },
  {
   "cell_type": "code",
   "execution_count": 55,
   "id": "85b7a4c9",
   "metadata": {},
   "outputs": [
    {
     "data": {
      "text/plain": [
       "(0.35, 0.35)"
      ]
     },
     "execution_count": 55,
     "metadata": {},
     "output_type": "execute_result"
    }
   ],
   "source": [
    "capella_preprocessed = rasterio.open('/Users/qiuqi/Downloads/New_output.tif')"
   ]
  },
  {
   "cell_type": "markdown",
   "id": "43fd54d5",
   "metadata": {},
   "source": [
    "**Step 4:** Prepare feature vector"
   ]
  },
  {
   "cell_type": "code",
   "execution_count": null,
   "id": "4fb2e12d",
   "metadata": {},
   "outputs": [],
   "source": [
    "capella_feature_vectors = get_feature_vectors(preprocessed_band, 3)"
   ]
  },
  {
   "cell_type": "markdown",
   "id": "a93a87b1",
   "metadata": {},
   "source": [
    "**Step 5:** Train models"
   ]
  },
  {
   "cell_type": "markdown",
   "id": "e23a0dd1",
   "metadata": {},
   "source": [
    "## Functions"
   ]
  },
  {
   "cell_type": "code",
   "execution_count": 17,
   "id": "34046250",
   "metadata": {},
   "outputs": [],
   "source": [
    "def regrid(data, out_x, out_y):\n",
    "    m = max(data.shape[0], data.shape[1])\n",
    "    y = np.linspace(0, 1.0/m, data.shape[0])\n",
    "    x = np.linspace(0, 1.0/m, data.shape[1])\n",
    "    interpolating_function = RegularGridInterpolator((y, x), data)\n",
    "\n",
    "    yv, xv = np.meshgrid(np.linspace(0, 1.0/m, out_y), np.linspace(0, 1.0/m, out_x))\n",
    "\n",
    "    return interpolating_function((xv, yv))"
   ]
  },
  {
   "cell_type": "code",
   "execution_count": 16,
   "id": "f40de5e8",
   "metadata": {},
   "outputs": [],
   "source": [
    "def create_newtiff(original_dt, new_band, xres, yres):\n",
    "    \n",
    "    out_meta = original_dt.meta.copy()\n",
    "\n",
    "    scaling_factor_width = xres / original_dt.res[0]\n",
    "    scaling_factor_height = yres / original_dt.res[1]\n",
    "    \n",
    "    new_width = int(round(out_meta['width'] / scaling_factor_width))\n",
    "    new_height = int(round(out_meta['height'] / scaling_factor_height))\n",
    "\n",
    "    current_affine = original_dt.transform\n",
    "    new_affine = rasterio.Affine(\n",
    "        current_affine.a * scaling_factor_width,\n",
    "        current_affine.b,\n",
    "        current_affine.c,\n",
    "        current_affine.d,\n",
    "        current_affine.e * scaling_factor_height,\n",
    "        current_affine.f\n",
    "    )\n",
    "    out_meta['transform'] = new_affine\n",
    "\n",
    "    # Update image dimensions\n",
    "    out_meta['width'] = new_width\n",
    "    out_meta['height'] = new_height\n",
    "    \n",
    "    out_meta.update({'driver':'GTiff',\n",
    "                 'count':1,\n",
    "                 'dtype':'uint8',\n",
    "                 'crs':original_dt.crs, \n",
    "                 'nodata':0.0})\n",
    "    with rasterio.open('/Users/qiuqi/Downloads/New_output.tif', 'w', **out_meta) as dst:\n",
    "        dst.write(new_band,1)"
   ]
  },
  {
   "cell_type": "code",
   "execution_count": 15,
   "id": "0da63c31",
   "metadata": {},
   "outputs": [],
   "source": [
    "def resample_dataset(original_dt, xres, yres):\n",
    "   \n",
    "    scaling_factor_x = original_dt.transform.a / xres\n",
    "    scaling_factor_y = original_dt.transform.e / yres\n",
    "\n",
    "    new_width = max(int(round(original_dt.width * scaling_factor_x)), 1)\n",
    "    new_height = max(int(round(original_dt.height * scaling_factor_y)), 1)\n",
    "\n",
    "    out_meta = original_dt.meta.copy()\n",
    "    out_meta.update({\n",
    "        'width': new_width,\n",
    "        'height': new_height,\n",
    "        'transform': rasterio.Affine(xres, 0, original_dt.transform.c,\n",
    "                                     0, yres, original_dt.transform.f)\n",
    "    })\n",
    "\n",
    "\n",
    "    with rasterio.open('/Users/qiuqi/Downloads/Trial_output.tif', 'w', **out_meta) as dst:\n",
    "        data = original_dt.read(out_shape=(original_dt.count, new_height, new_width),\n",
    "                                resampling=Resampling.bilinear)\n",
    "        dst.write(data)\n",
    "\n",
    "# with rasterio.open('path_to_original.tif', 'r') as original_dt:\n",
    "#     resample_dataset(original_dt, 'path_to_resampled_band.tif', xres=10, yres=10)\n"
   ]
  },
  {
   "cell_type": "code",
   "execution_count": 14,
   "id": "5de283b0",
   "metadata": {},
   "outputs": [],
   "source": [
    "def read_tiff(dataset):\n",
    "    \n",
    "    band = dataset.read(1)\n",
    "    width = dataset.width\n",
    "    height = dataset.height\n",
    "    metadata = dataset.meta\n",
    "    \n",
    "    return band, width, height, metadata"
   ]
  },
  {
   "cell_type": "code",
   "execution_count": 13,
   "id": "9c2ac5cb",
   "metadata": {},
   "outputs": [],
   "source": [
    "def show_tiff(dataset):\n",
    "    fig = plt.figure(figsize=(10,10))\n",
    "    ax = fig.add_subplot(111)\n",
    "    ax.imshow(dataset.read(1), cmap='gray')"
   ]
  },
  {
   "cell_type": "code",
   "execution_count": 12,
   "id": "d2f53a77",
   "metadata": {},
   "outputs": [],
   "source": [
    "def compare_tiff(dataset1, dataset2):\n",
    "    fig = plt.figure(figsize=(10,10))\n",
    "    ax = fig.add_subplot(121)\n",
    "    ax.imshow(dataset1.read(1), cmap='pink')\n",
    "    ax = fig.add_subplot(122)\n",
    "    ax.imshow(dataset2.read(1), cmap='pink')"
   ]
  },
  {
   "cell_type": "code",
   "execution_count": 11,
   "id": "821f547d",
   "metadata": {},
   "outputs": [],
   "source": [
    "def bilinear_interpolation(original_dt, h_scale_factor, w_scale_factor):\n",
    "    \n",
    "    band = original_dt.read(1)\n",
    "    \n",
    "    old_w=original_dt.width\n",
    "    old_h=original_dt.height\n",
    "\n",
    "    new_w = round(old_w/w_scale_factor)\n",
    "    new_h = round(old_h/h_scale_factor)\n",
    "\n",
    "    resized = np.zeros((new_h, new_w))\n",
    "\n",
    "    for i in range(new_h):\n",
    "        for j in range(new_w):\n",
    "            # Original coordinates \n",
    "            x = i * h_scale_factor\n",
    "            y = j * w_scale_factor\n",
    "            # Coordinate values for 4 surrounding pixels.\n",
    "            x_floor = math.floor(x)\n",
    "            x_ceil = min(old_h - 1, math.ceil(x))\n",
    "            y_floor = math.floor(y)\n",
    "            y_ceil = min(old_w - 1, math.ceil(y))\n",
    "    \n",
    "            if (x_ceil == x_floor) and (y_ceil == y_floor):\n",
    "                # Estimated pixel value\n",
    "                q = band[int(x), int(y)]\n",
    "            elif (x_ceil == x_floor):\n",
    "                q1 = band[int(x), int(y_floor)]\n",
    "                q2 = band[int(x), int(y_ceil)]\n",
    "                q = q1 * (y_ceil - y) + q2 * (y - y_floor)\n",
    "            elif (y_ceil == y_floor):\n",
    "                q1 = band[int(x_floor), int(y)]\n",
    "                q2 = band[int(x_ceil), int(y)]\n",
    "                q = (q1 * (x_ceil - x)) + (q2 * (x - x_floor))\n",
    "            else:\n",
    "                # neighbouring pixel values\n",
    "                v1 = band[x_floor, y_floor]\n",
    "                v2 = band[x_ceil, y_floor]\n",
    "                v3 = band[x_floor, y_ceil]\n",
    "                v4 = band[x_ceil, y_ceil]\n",
    "    \n",
    "                # Estimated pixel value\n",
    "                q1 = v1 * (x_ceil - x) + v2 * (x - x_floor)\n",
    "                q2 = v3 * (x_ceil - x) + v4 * (x - x_floor)\n",
    "                q = q1 * (y_ceil - y) + q2 * (y - y_floor)\n",
    "            \n",
    "            if (q<0):\n",
    "                q=0\n",
    "            elif (q>255):\n",
    "                q=255\n",
    "            \n",
    "            resized[i,j] = q\n",
    "            \n",
    "    new_pixel_w = w_scale_factor*original_dt.res[0]\n",
    "    new_pixel_h = h_scale_factor*original_dt.res[1]\n",
    "    return resized.astype(np.uint8), new_pixel_w, new_pixel_h"
   ]
  },
  {
   "cell_type": "code",
   "execution_count": 10,
   "id": "73bca2c3",
   "metadata": {},
   "outputs": [],
   "source": [
    "def generate_feature_vector(feature_band, label_band, window_size, training_num):\n",
    "    index_vector = []\n",
    "    for n in range(training_num):\n",
    "        index = [random.randrange(1,label_band.shape[0]), random.randrange(1,label_band.shape[1])]\n",
    "        index_vector.append(index)\n",
    "    feature_vectors = get_feature_vectors(feature_band, window_size, index_vector)\n",
    "    return index_vector, feature_vectors.flatten().reshape((training_num, window_size*window_size))"
   ]
  },
  {
   "cell_type": "code",
   "execution_count": 9,
   "id": "a90d7da0",
   "metadata": {},
   "outputs": [],
   "source": [
    "def get_feature_vectors(pixel_array, window_size, pixel_index):\n",
    "    \n",
    "    if window_size % 2 == 0:\n",
    "        raise ValueError(\"Window size should be an odd number.\")\n",
    "\n",
    "    half_window = window_size // 2\n",
    "    height, width = pixel_array.shape\n",
    "    feature_vectors = np.zeros((len(pixel_index), 1, window_size * window_size))\n",
    "\n",
    "    for n in range(len(pixel_index)):\n",
    "        row = pixel_index[n][0]  \n",
    "        col = pixel_index[n][1]\n",
    "        # Define the window around the current pixel\n",
    "        row_start = max(0, row - half_window)\n",
    "        row_end = min(height, row + half_window + 1)\n",
    "        col_start = max(0, col - half_window)\n",
    "        col_end = min(width, col + half_window + 1)\n",
    "\n",
    "            # Extract pixel values within the window\n",
    "        window_values = pixel_array[row_start:row_end, col_start:col_end].ravel()\n",
    "\n",
    "            # Pad the window values to fill the feature vector\n",
    "        padded_values = np.pad(window_values, (0, window_size * window_size - len(window_values)), mode='constant')\n",
    "\n",
    "            # Store the feature vector for the current pixel\n",
    "        feature_vectors[n, 0, :] = padded_values\n",
    "\n",
    "    return feature_vectors"
   ]
  },
  {
   "cell_type": "code",
   "execution_count": 8,
   "id": "f3d8ce21",
   "metadata": {},
   "outputs": [],
   "source": [
    "def generate_label_vector(band, index_vector):\n",
    "    label_vector = []\n",
    "    for n in range(len(index_vector)):\n",
    "        row = index_vector[n][0]\n",
    "        column = index_vector[n][1]\n",
    "        \n",
    "        label = band[row, column]\n",
    "        label_vector.append(label)\n",
    "    return label_vector"
   ]
  },
  {
   "cell_type": "code",
   "execution_count": 7,
   "id": "cb60c0e3",
   "metadata": {},
   "outputs": [],
   "source": [
    "def compute_entropy(band):\n",
    "    \n",
    "    dt = band.flatten()\n",
    "    nonzero_dt = dt [dt !=0]\n",
    "    length = len(nonzero_dt)\n",
    "    pk = np.full(length, 1/256)\n",
    "    en = entropy(pk, nonzero_dt)\n",
    "    return en"
   ]
  },
  {
   "cell_type": "code",
   "execution_count": 6,
   "id": "5472f311",
   "metadata": {},
   "outputs": [],
   "source": [
    "def find_proper_sigma(input_band, desire_entropy):\n",
    "    sig = 0\n",
    "    blurred_band = gaussian_filter(input_band, sigma=sig)\n",
    "    en = compute_entropy(blurred_band)\n",
    "#     print(abs(en - desire_entropy))\n",
    "    while (abs(en - desire_entropy) > 0.01):\n",
    "        sig += 0.5\n",
    "        blurred_band = gaussian_filter(input_band, sigma=sig)\n",
    "        en = compute_entropy(blurred_band)\n",
    "#         print(abs(en - desire_entropy))\n",
    "    return sig"
   ]
  },
  {
   "cell_type": "code",
   "execution_count": 5,
   "id": "3b8f619e",
   "metadata": {},
   "outputs": [],
   "source": [
    "def align(raster, labels):\n",
    "    transform, width, height = calculate_default_transform(\n",
    "    labels.crs, raster.crs, labels.width, labels.height, *labels.bounds)\n",
    "    \n",
    "    kwargs = labels.meta.copy()\n",
    "    kwargs.update({\n",
    "    'crs': raster.crs,\n",
    "    'transform': raster.transform,\n",
    "    'width':labels.width,\n",
    "    'height':labels.height\n",
    "    })\n",
    "\n",
    "    with rasterio.open('/Users/qiuqi/Downloads/groundtruth.tif', 'w', **kwargs) as dst:\n",
    "        reproject(\n",
    "            source=rasterio.band(labels, 1),\n",
    "            destination=rasterio.band(dst, 1),\n",
    "            src_transform=labels.transform,\n",
    "            src_crs=labels.crs,\n",
    "            dst_transform=raster.transform,\n",
    "            dst_crs=raster.crs,\n",
    "            resampling=Resampling.nearest)"
   ]
  },
  {
   "cell_type": "code",
   "execution_count": 72,
   "id": "fd1e353c",
   "metadata": {},
   "outputs": [],
   "source": [
    "def align(raster, labels): #### trial\n",
    "    transform, width, height = rasterio.warp.aligned_target(labels.transform, labels.width, labels.height, raster.res)\n",
    "#     transform, width, height = calculate_default_transform(\n",
    "#     labels.crs, raster.crs, labels.width, labels.height, *labels.bounds)\n",
    "    print(transform, width, height)\n",
    "    kwargs = labels.meta.copy()\n",
    "    kwargs.update({\n",
    "    'crs': raster.crs,\n",
    "    'transform': transform,\n",
    "    'width': width,\n",
    "    'height':height\n",
    "    })\n",
    "\n",
    "    with rasterio.open('/Users/qiuqi/Downloads/groundtruth.tif', 'w', **kwargs) as dst:\n",
    "        reproject(\n",
    "            source=rasterio.band(labels, 1),\n",
    "            destination=rasterio.band(dst, 1),\n",
    "            src_transform=labels.transform,\n",
    "            src_crs=labels.crs,\n",
    "            dst_transform=raster.transform,\n",
    "            dst_crs=raster.crs,\n",
    "            resampling=Resampling.nearest)\n",
    "        \n"
   ]
  },
  {
   "cell_type": "code",
   "execution_count": 335,
   "id": "277f3009",
   "metadata": {},
   "outputs": [
    {
     "data": {
      "text/plain": [
       "BoundingBox(left=350799.0494, bottom=4102135.0859, right=358359.0494, top=4111635.0859)"
      ]
     },
     "execution_count": 335,
     "metadata": {},
     "output_type": "execute_result"
    }
   ],
   "source": [
    "sentinel.bounds"
   ]
  },
  {
   "cell_type": "code",
   "execution_count": 354,
   "id": "360bc864",
   "metadata": {},
   "outputs": [
    {
     "data": {
      "text/plain": [
       "BoundingBox(left=350799.0494, bottom=4102135.0859, right=358359.0494, top=4111635.0859)"
      ]
     },
     "execution_count": 354,
     "metadata": {},
     "output_type": "execute_result"
    }
   ],
   "source": [
    "sentinel5_upgraded.bounds"
   ]
  },
  {
   "cell_type": "code",
   "execution_count": 350,
   "id": "e83d7d2d",
   "metadata": {},
   "outputs": [
    {
     "data": {
      "text/plain": [
       "BoundingBox(left=350069.1667, bottom=4100986.0308000003, right=357629.1667, top=4110486.0308)"
      ]
     },
     "execution_count": 350,
     "metadata": {},
     "output_type": "execute_result"
    }
   ],
   "source": [
    "sentinel5_aligned.bounds"
   ]
  },
  {
   "cell_type": "code",
   "execution_count": 73,
   "id": "fa3371b5",
   "metadata": {},
   "outputs": [
    {
     "name": "stdout",
     "output_type": "stream",
     "text": [
      "| 5.00, 0.00, 350795.00|\n",
      "| 0.00,-5.00, 4111640.00|\n",
      "| 0.00, 0.00, 1.00| 1513 1902\n"
     ]
    },
    {
     "data": {
      "text/plain": [
       "{'driver': 'GTiff',\n",
       " 'dtype': 'uint8',\n",
       " 'nodata': 0.0,\n",
       " 'width': 1513,\n",
       " 'height': 1902,\n",
       " 'count': 1,\n",
       " 'crs': CRS.from_epsg(32637),\n",
       " 'transform': Affine(4.999999999999994, 0.0, 350794.9999999996,\n",
       "        0.0, -4.999999999999828, 4111639.9999998584)}"
      ]
     },
     "execution_count": 73,
     "metadata": {},
     "output_type": "execute_result"
    }
   ],
   "source": [
    "align(capella5_downgraded, sentinel5_upgraded)\n",
    "sentinel5_al = rasterio.open('/Users/qiuqi/Downloads/groundtruth.tif')\n",
    "sentinel5_al.meta"
   ]
  },
  {
   "cell_type": "code",
   "execution_count": 74,
   "id": "3b21653c",
   "metadata": {},
   "outputs": [
    {
     "data": {
      "text/plain": [
       "BoundingBox(left=350794.9999999996, bottom=4102129.999999859, right=358359.9999999996, top=4111639.9999998584)"
      ]
     },
     "execution_count": 74,
     "metadata": {},
     "output_type": "execute_result"
    }
   ],
   "source": [
    "sentinel5_al.bounds"
   ]
  },
  {
   "cell_type": "code",
   "execution_count": 75,
   "id": "8990f9dc",
   "metadata": {},
   "outputs": [
    {
     "data": {
      "text/plain": [
       "BoundingBox(left=350069.1667, bottom=4100986.0308000003, right=357629.1667, top=4110486.0308)"
      ]
     },
     "execution_count": 75,
     "metadata": {},
     "output_type": "execute_result"
    }
   ],
   "source": [
    "sentinel5_aligned.bounds"
   ]
  },
  {
   "cell_type": "code",
   "execution_count": 69,
   "id": "e7894e41",
   "metadata": {},
   "outputs": [
    {
     "data": {
      "text/plain": [
       "{'driver': 'GTiff',\n",
       " 'dtype': 'uint8',\n",
       " 'nodata': 0.0,\n",
       " 'width': 1512,\n",
       " 'height': 1900,\n",
       " 'count': 1,\n",
       " 'crs': CRS.from_epsg(32637),\n",
       " 'transform': Affine(4.999999999999994, 0.0, 350069.1667,\n",
       "        0.0, -4.999999999999828, 4110486.0308)}"
      ]
     },
     "execution_count": 69,
     "metadata": {},
     "output_type": "execute_result"
    }
   ],
   "source": [
    "\n",
    "sentinel5_aligned = rasterio.open('/Users/qiuqi/Downloads/sentinel5_aligned.tif')\n",
    "sentinel5_aligned.meta"
   ]
  },
  {
   "cell_type": "code",
   "execution_count": 347,
   "id": "373b81bf",
   "metadata": {},
   "outputs": [
    {
     "data": {
      "text/plain": [
       "BoundingBox(left=350069.1667, bottom=4102365.3308, right=358344.2167, top=4110486.0308)"
      ]
     },
     "execution_count": 347,
     "metadata": {},
     "output_type": "execute_result"
    }
   ],
   "source": [
    "capella.bounds"
   ]
  },
  {
   "cell_type": "code",
   "execution_count": 348,
   "id": "f3df7012",
   "metadata": {},
   "outputs": [
    {
     "data": {
      "text/plain": [
       "BoundingBox(left=350069.1667, bottom=4102366.0308000003, right=358344.1667, top=4110486.0308)"
      ]
     },
     "execution_count": 348,
     "metadata": {},
     "output_type": "execute_result"
    }
   ],
   "source": [
    "capella5_downgraded.bounds"
   ]
  },
  {
   "cell_type": "code",
   "execution_count": 342,
   "id": "386e442d",
   "metadata": {},
   "outputs": [],
   "source": [
    "extract_overlap(sentinel5_aligned, capella5_downgraded)"
   ]
  },
  {
   "cell_type": "code",
   "execution_count": 76,
   "id": "940d7b6d",
   "metadata": {},
   "outputs": [
    {
     "name": "stdout",
     "output_type": "stream",
     "text": [
      "BoundingBox(left=350794.9999999996, bottom=4102129.999999859, right=358359.9999999996, top=4111639.9999998584)\n",
      "BoundingBox(left=350069.1667, bottom=4102366.0308000003, right=358344.1667, top=4110486.0308)\n",
      "(350794.9999999996, 4102366.0308000003, 358344.1667, 4110486.0308)\n",
      "BoundingBox(left=350794.9999999996, bottom=4102366.0308000003, right=358344.1667, top=4110486.0308)\n"
     ]
    }
   ],
   "source": [
    "extract_overlap(sentinel5_al, capella5_downgraded)"
   ]
  },
  {
   "cell_type": "code",
   "execution_count": 79,
   "id": "f507dfa6",
   "metadata": {},
   "outputs": [
    {
     "data": {
      "text/plain": [
       "BoundingBox(left=350794.9999999996, bottom=4102366.0308000008, right=358339.9999999996, top=4110486.0308000003)"
      ]
     },
     "execution_count": 79,
     "metadata": {},
     "output_type": "execute_result"
    }
   ],
   "source": [
    "output = rasterio.open('/Users/qiuqi/Downloads/output_overlap.tif')\n",
    "output.bounds"
   ]
  },
  {
   "cell_type": "code",
   "execution_count": 4,
   "id": "bfe91fca",
   "metadata": {},
   "outputs": [],
   "source": [
    "def extract_overlap(src1, src2):\n",
    "    bounds1 = src1.bounds\n",
    "    bounds2 = src2.bounds\n",
    "    print(bounds1)\n",
    "    print(bounds2)\n",
    "    # Calculate the overlapping extent\n",
    "    overlap_extent = (\n",
    "        max(bounds1.left, bounds2.left),\n",
    "        max(bounds1.bottom, bounds2.bottom),\n",
    "        min(bounds1.right, bounds2.right),\n",
    "        min(bounds1.top, bounds2.top)\n",
    "    )\n",
    "    print(overlap_extent)\n",
    "    oe = rasterio.coords.BoundingBox(*overlap_extent)\n",
    "    print(oe)\n",
    "    # Read the overlapping area from the larger GeoTIFF (file1.tif)\n",
    "    window = src1.window(*oe)\n",
    "    data1 = src1.read(1, window=window)\n",
    "\n",
    "    # Create a new GeoTIFF file to save the extracted overlapping area\n",
    "    output_filename = '/Users/qiuqi/Downloads/output_overlap.tif'\n",
    "    profile = src1.profile\n",
    "    profile.update(width=window.width, height=window.height, transform=src1.window_transform(window))\n",
    "    with rasterio.open(output_filename, 'w', **profile) as dst:\n",
    "        dst.write(data1, 1)\n"
   ]
  },
  {
   "cell_type": "code",
   "execution_count": 3,
   "id": "f844efb5",
   "metadata": {},
   "outputs": [],
   "source": [
    "def extract_overlap(src1, src2):\n",
    "    data1 = src1.read(1)\n",
    "\n",
    "    # extract metadata from the first raster\n",
    "    meta = src1.meta.copy()\n",
    "\n",
    "    # read the window of the second raster with the same extent as the first raster\n",
    "    window = src1.window(*src2.bounds)\n",
    "\n",
    "    # read the data from the second raster with the same window as first raster\n",
    "    data1 = src1.read(1, window=window, boundless=True, fill_value=0)\n",
    "    data1 = np.where(data1 == src1.nodata, 0, data1)\n",
    "    \n",
    "    with rasterio.open('/Users/qiuqi/Downloads/trial_overlap.tif', 'w', **meta) as dst:\n",
    "        dst.write(data1, 1)"
   ]
  },
  {
   "cell_type": "code",
   "execution_count": 2,
   "id": "1a0f24bd",
   "metadata": {},
   "outputs": [],
   "source": [
    "def extract_overlap(src1, src2):\n",
    "    data1 = src1.read(1)\n",
    "\n",
    "    # extract metadata from the first raster\n",
    "    meta = src1.meta.copy()\n",
    "\n",
    "    # read the window of the second raster with the same extent as the first raster\n",
    "    window = src2.window(*src1.bounds)\n",
    "\n",
    "    # read the data from the second raster with the same window as first raster\n",
    "    data2 = src2.read(1, window=window, boundless=True, fill_value=0)\n",
    "    data2 = np.where(data2 == src2.nodata, 0, data2)\n",
    "\n",
    "    data = data1 - data2\n",
    "    # write the result to a new raster\n",
    "    with rasterio.open('/Users/qiuqi/Downloads/trial_overlap.tif', 'w', **meta) as dst:\n",
    "        dst.write(data,1)"
   ]
  }
 ],
 "metadata": {
  "kernelspec": {
   "display_name": "Python 3 (ipykernel)",
   "language": "python",
   "name": "python3"
  },
  "language_info": {
   "codemirror_mode": {
    "name": "ipython",
    "version": 3
   },
   "file_extension": ".py",
   "mimetype": "text/x-python",
   "name": "python",
   "nbconvert_exporter": "python",
   "pygments_lexer": "ipython3",
   "version": "3.9.16"
  }
 },
 "nbformat": 4,
 "nbformat_minor": 5
}
