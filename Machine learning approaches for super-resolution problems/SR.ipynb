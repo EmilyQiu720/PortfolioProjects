{
 "cells": [
  {
   "cell_type": "code",
   "execution_count": 1,
   "metadata": {},
   "outputs": [],
   "source": [
    "import cv2"
   ]
  },
  {
   "cell_type": "code",
   "execution_count": 2,
   "metadata": {},
   "outputs": [],
   "source": [
    "# EDSRx4\n",
    "sr = cv2.dnn_superres.DnnSuperResImpl_create()\n",
    "path = \"/Users/qiuqi/Downloads/EDSR_x4.pb\"\n",
    "sr.readModel(path) \n",
    "sr.setModel(\"edsr\",4)"
   ]
  },
  {
   "cell_type": "code",
   "execution_count": 7,
   "metadata": {},
   "outputs": [],
   "source": [
    "# EDSRx2\n",
    "sr = cv2.dnn_superres.DnnSuperResImpl_create()\n",
    "path = \"/Users/qiuqi/Downloads/EDSR_x2.pb\"\n",
    "sr.readModel(path) \n",
    "sr.setModel(\"edsr\",2)"
   ]
  },
  {
   "cell_type": "code",
   "execution_count": 14,
   "metadata": {},
   "outputs": [
    {
     "data": {
      "text/plain": [
       "True"
      ]
     },
     "execution_count": 14,
     "metadata": {},
     "output_type": "execute_result"
    }
   ],
   "source": [
    "img = cv2.imread(\"/Users/qiuqi/Downloads/clipped/sentinel1_processed_clipped.tif\");\n",
    "result = sr.upsample(img)\n",
    "cv2.imwrite(\"/Users/qiuqi/Desktop/Sentinel1_SR.png\", result)"
   ]
  },
  {
   "cell_type": "code",
   "execution_count": 10,
   "metadata": {},
   "outputs": [
    {
     "data": {
      "text/plain": [
       "True"
      ]
     },
     "execution_count": 10,
     "metadata": {},
     "output_type": "execute_result"
    }
   ],
   "source": [
    "sen2 = cv2.imread(\"/Users/qiuqi/Downloads/sentinel2_band1.tif\");\n",
    "sen2_SR = sr.upsample(sen2)\n",
    "cv2.imwrite(\"/Users/qiuqi/Desktop/Sentinel2_band1.png\", sen2_SR)"
   ]
  },
  {
   "cell_type": "code",
   "execution_count": 11,
   "metadata": {},
   "outputs": [
    {
     "data": {
      "text/plain": [
       "True"
      ]
     },
     "execution_count": 11,
     "metadata": {},
     "output_type": "execute_result"
    }
   ],
   "source": [
    "sen2 = cv2.imread(\"/Users/qiuqi/Downloads/sentinel2_band2.tif\");\n",
    "sen2_SR = sr.upsample(sen2)\n",
    "cv2.imwrite(\"/Users/qiuqi/Desktop/Sentinel2_band2.png\", sen2_SR)"
   ]
  },
  {
   "cell_type": "code",
   "execution_count": 12,
   "metadata": {},
   "outputs": [
    {
     "data": {
      "text/plain": [
       "True"
      ]
     },
     "execution_count": 12,
     "metadata": {},
     "output_type": "execute_result"
    }
   ],
   "source": [
    "sen2 = cv2.imread(\"/Users/qiuqi/Downloads/sentinel2_band3.tif\");\n",
    "sen2_SR = sr.upsample(sen2)\n",
    "cv2.imwrite(\"/Users/qiuqi/Desktop/Sentinel2_band3.png\", sen2_SR)"
   ]
  },
  {
   "cell_type": "code",
   "execution_count": 13,
   "metadata": {},
   "outputs": [
    {
     "data": {
      "text/plain": [
       "True"
      ]
     },
     "execution_count": 13,
     "metadata": {},
     "output_type": "execute_result"
    }
   ],
   "source": [
    "sen2 = cv2.imread(\"/Users/qiuqi/Downloads/sentinel2_band4.tif\");\n",
    "sen2_SR = sr.upsample(sen2)\n",
    "cv2.imwrite(\"/Users/qiuqi/Desktop/Sentinel2_band4.png\", sen2_SR)"
   ]
  }
 ],
 "metadata": {
  "kernelspec": {
   "display_name": "new",
   "language": "python",
   "name": "python3"
  },
  "language_info": {
   "codemirror_mode": {
    "name": "ipython",
    "version": 3
   },
   "file_extension": ".py",
   "mimetype": "text/x-python",
   "name": "python",
   "nbconvert_exporter": "python",
   "pygments_lexer": "ipython3",
   "version": "3.11.4"
  },
  "orig_nbformat": 4
 },
 "nbformat": 4,
 "nbformat_minor": 2
}
