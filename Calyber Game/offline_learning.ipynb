{
 "cells": [
  {
   "cell_type": "markdown",
   "metadata": {
    "cell_id": "87c810da0f5945898e7064d4f754c1e2",
    "deepnote_app_block_visible": true,
    "deepnote_cell_type": "markdown"
   },
   "source": [
    "# Offline Learning\n"
   ]
  },
  {
   "cell_type": "code",
   "execution_count": 1,
   "metadata": {},
   "outputs": [],
   "source": [
    "# Load in all your libraries and packages here!\n",
    "# NOTE: you are allowed to use packages loaded below ONLY. If you want to use any other packages, please contact the TA.\n",
    "import pandas as pd\n",
    "import numpy as np\n",
    "import itertools\n",
    "import math\n",
    "import random\n",
    "import copy\n",
    "import time\n",
    "import pandas as pd\n",
    "import haversine\n",
    "# from haversine import haversine\n",
    "import unittest\n",
    "import pickle\n",
    "import collections\n",
    "\n",
    "from utils import * # this imports all helper functions in utils.py\n",
    "\n",
    "# TODO: Replace the string \"TeamName\" below with your own team's name in camel case. For e.g. \"AwesomeTeam\"\n",
    "# DO NOT RENAME THE FILE, the file name should be \"{TEAM_NAME}_Policies.py\"\n",
    "TEAM_NAME = \"poop\""
   ]
  },
  {
   "cell_type": "code",
   "execution_count": 2,
   "metadata": {},
   "outputs": [],
   "source": [
    "from sklearn.linear_model import LogisticRegression\n",
    "# Load data needed for offline pricing and matching\n",
    "training_data = pd.read_csv(\"data/training_data.csv\")\n",
    "area_coords = pd.read_csv(\"data/area_lat_lon.csv\").set_index('area_id')\n",
    "training_data.dropna(subset=['quoted_price', 'convert_or_not'], inplace=True)\n",
    "offline_data = training_data.copy()\n",
    "\n",
    "# Build base price table\n",
    "base_price_table = offline_data.groupby(['pickup_area', 'dropoff_area'])['quoted_price'].median().reset_index()\n",
    "base_price_table.rename(columns={'quoted_price': 'median_price'}, inplace=True)\n",
    "\n",
    "\n",
    "conversion_rates = offline_data.groupby(['pickup_area', 'dropoff_area'])['convert_or_not'].mean().reset_index()\n",
    "conversion_rates.rename(columns={'convert_or_not': 'conversion_rate'}, inplace=True)\n",
    "base_price_table = base_price_table.merge(conversion_rates, on=['pickup_area', 'dropoff_area'], how='left')\n",
    "\n",
    "base_price_table['base_price'] = base_price_table['median_price'] * (1 + 0.1 * (base_price_table['conversion_rate'] - 0.5))\n",
    "\n",
    "\n",
    "\n",
    "pair_counts = offline_data.groupby(['pickup_area', 'dropoff_area']).size().reset_index(name='count')\n",
    "thresh = pair_counts['count'].quantile(0.9)\n",
    "hot_pairs = pair_counts[pair_counts['count'] > thresh][['pickup_area', 'dropoff_area']]\n",
    "base_price_table = base_price_table.merge(hot_pairs.assign(hot_pair=True), on=['pickup_area', 'dropoff_area'], how='left')\n",
    "base_price_table['hot_pair'] = base_price_table['hot_pair'].fillna(False)\n",
    "base_price_table.loc[base_price_table['hot_pair'], 'base_price'] *= 1.05\n",
    "\n",
    "pickup_avg = offline_data.groupby('pickup_area')['quoted_price'].mean()\n",
    "dropoff_avg = offline_data.groupby('dropoff_area')['quoted_price'].mean()\n",
    "overall_avg = offline_data['quoted_price'].mean()\n",
    "\n",
    "def marginal_boost(row):\n",
    "    pickup_boost = pickup_avg.get(row['pickup_area'], overall_avg) - overall_avg\n",
    "    dropoff_boost = dropoff_avg.get(row['dropoff_area'], overall_avg) - overall_avg\n",
    "    return 0.05 * (pickup_boost + dropoff_boost)\n",
    "\n",
    "base_price_table['base_price'] += base_price_table.apply(marginal_boost, axis=1)\n",
    "base_price_table.set_index(['pickup_area', 'dropoff_area'], inplace=True)\n",
    "base_price_table.to_csv(\"base_price_table.csv\")"
   ]
  },
  {
   "cell_type": "code",
   "execution_count": null,
   "metadata": {},
   "outputs": [],
   "source": []
  }
 ],
 "metadata": {
  "deepnote_app_layout": "powerful-article",
  "deepnote_app_reactivity_enabled": true,
  "deepnote_full_width": false,
  "deepnote_notebook_id": "b83207801353414cbff7de9530e628d7",
  "deepnote_persisted_session": {
   "createdAt": "2024-11-20T04:50:13.896Z"
  },
  "kernelspec": {
   "display_name": "Python 3 (ipykernel)",
   "language": "python",
   "name": "python3"
  },
  "language_info": {
   "codemirror_mode": {
    "name": "ipython",
    "version": 3
   },
   "file_extension": ".py",
   "mimetype": "text/x-python",
   "name": "python",
   "nbconvert_exporter": "python",
   "pygments_lexer": "ipython3",
   "version": "3.9.19"
  }
 },
 "nbformat": 4,
 "nbformat_minor": 1
}
