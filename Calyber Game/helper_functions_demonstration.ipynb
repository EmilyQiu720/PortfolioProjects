{
 "cells": [
  {
   "cell_type": "markdown",
   "metadata": {},
   "source": [
    "# Helper Functions Demonstration\n",
    "\n",
    "This notebook demonstrates the use of the helper functions in `utils.py`: `populate_shared_ride_lengths()` and `create_route_map()`."
   ]
  },
  {
   "cell_type": "markdown",
   "metadata": {},
   "source": [
    "Load packages and functions"
   ]
  },
  {
   "cell_type": "code",
   "execution_count": 3,
   "metadata": {},
   "outputs": [],
   "source": [
    "import numpy as np\n",
    "from utils import populate_shared_ride_lengths, create_route_map, IIJJ, IJIJ, IJJI, JIJI, JIIJ"
   ]
  },
  {
   "cell_type": "markdown",
   "metadata": {},
   "source": [
    "Load the coordinates of the pickup and dropoff locations of two riders."
   ]
  },
  {
   "cell_type": "code",
   "execution_count": 7,
   "metadata": {},
   "outputs": [],
   "source": [
    "# the OD of rider i\n",
    "origin_i = (41.8129489392, -87.6278596758)  # (lat, lon) of the pickup location\n",
    "destination_i = (41.7615779081, -87.5727819867)  # (lat, lon) of the dropoff location\n",
    "\n",
    "# the OD of rider j\n",
    "origin_j = (41.8006073724, -87.6221729369)  # (lat, lon) of the pickup location\n",
    "destination_j = (41.7363101308, -87.5515625922)  # (lat, lon) of the dropoff location"
   ]
  },
  {
   "cell_type": "markdown",
   "metadata": {},
   "source": [
    "Calculate the shortest path of the shared ride between the two riders, using the function `populate_shared_ride_lengths()`. (You may not need all five returned results, but they are provided for your convenience.)"
   ]
  },
  {
   "cell_type": "code",
   "execution_count": 8,
   "metadata": {},
   "outputs": [
    {
     "name": "stdout",
     "output_type": "stream",
     "text": [
      "The shortest length of the shared trip between the two riders is: 6.670 miles.\n",
      "The trip length when both riders are in the vehicle: 3.708 miles\n",
      "The trip length when only rider i is in the vehicle: 0.902 miles\n",
      "The trip length when only rider j is in the vehicle: 2.060 miles\n",
      "The trip order is: pick up rider i - pick up rider j - drop off rider i - drop off rider j\n"
     ]
    }
   ],
   "source": [
    "# calculate the shared ride lengths\n",
    "(\n",
    "    trip_length,\n",
    "    shared_length,\n",
    "    i_solo_length,\n",
    "    j_solo_length,\n",
    "    trip_order,\n",
    ") = populate_shared_ride_lengths(origin_i, destination_i, origin_j, destination_j)\n",
    "\n",
    "# check the results: the trip length should be the sum of the shared length and the two solo lengths\n",
    "assert np.isclose(trip_length, shared_length + i_solo_length + j_solo_length)\n",
    "\n",
    "# explain the results\n",
    "print(\"The shortest length of the shared trip between the two riders is: {:.3f} miles.\".format(trip_length))\n",
    "print(\"The trip length when both riders are in the vehicle: {:.3f} miles\".format(shared_length))\n",
    "print(\"The trip length when only rider i is in the vehicle: {:.3f} miles\".format(i_solo_length))\n",
    "print(\"The trip length when only rider j is in the vehicle: {:.3f} miles\".format(j_solo_length))\n",
    "\n",
    "if trip_order == IIJJ:\n",
    "    print(\"The trip order is: pick up rider i - drop off rider i - pick up rider j - drop off rider j\")\n",
    "elif trip_order == IJIJ:\n",
    "    print(\"The trip order is: pick up rider i - pick up rider j - drop off rider i - drop off rider j\")\n",
    "elif trip_order == IJJI:\n",
    "    print(\"The trip order is: pick up rider i - pick up rider j - drop off rider j - drop off rider i\")\n",
    "elif trip_order == JIJI:\n",
    "    print(\"The trip order is: pick up rider j - pick up rider i - drop off rider j - drop off rider i\")\n",
    "elif trip_order == JIIJ:\n",
    "    print(\"The trip order is: pick up rider j - pick up rider i - drop off rider i - drop off rider j\")"
   ]
  },
  {
   "cell_type": "markdown",
   "metadata": {},
   "source": [
    "Plot the routing map of the shared ride, using the function `create_route_map()`."
   ]
  },
  {
   "cell_type": "code",
   "execution_count": 9,
   "metadata": {},
   "outputs": [
    {
     "data": {
      "text/html": [
       "<div style=\"width:100%;\"><div style=\"position:relative;width:100%;height:0;padding-bottom:60%;\"><span style=\"color:#565656\">Make this Notebook Trusted to load map: File -> Trust Notebook</span><iframe srcdoc=\"&lt;!DOCTYPE html&gt;\n",
       "&lt;html&gt;\n",
       "&lt;head&gt;\n",
       "    \n",
       "    &lt;meta http-equiv=&quot;content-type&quot; content=&quot;text/html; charset=UTF-8&quot; /&gt;\n",
       "    \n",
       "        &lt;script&gt;\n",
       "            L_NO_TOUCH = false;\n",
       "            L_DISABLE_3D = false;\n",
       "        &lt;/script&gt;\n",
       "    \n",
       "    &lt;style&gt;html, body {width: 100%;height: 100%;margin: 0;padding: 0;}&lt;/style&gt;\n",
       "    &lt;style&gt;#map {position:absolute;top:0;bottom:0;right:0;left:0;}&lt;/style&gt;\n",
       "    &lt;script src=&quot;https://cdn.jsdelivr.net/npm/leaflet@1.9.3/dist/leaflet.js&quot;&gt;&lt;/script&gt;\n",
       "    &lt;script src=&quot;https://code.jquery.com/jquery-3.7.1.min.js&quot;&gt;&lt;/script&gt;\n",
       "    &lt;script src=&quot;https://cdn.jsdelivr.net/npm/bootstrap@5.2.2/dist/js/bootstrap.bundle.min.js&quot;&gt;&lt;/script&gt;\n",
       "    &lt;script src=&quot;https://cdnjs.cloudflare.com/ajax/libs/Leaflet.awesome-markers/2.0.2/leaflet.awesome-markers.js&quot;&gt;&lt;/script&gt;\n",
       "    &lt;link rel=&quot;stylesheet&quot; href=&quot;https://cdn.jsdelivr.net/npm/leaflet@1.9.3/dist/leaflet.css&quot;/&gt;\n",
       "    &lt;link rel=&quot;stylesheet&quot; href=&quot;https://cdn.jsdelivr.net/npm/bootstrap@5.2.2/dist/css/bootstrap.min.css&quot;/&gt;\n",
       "    &lt;link rel=&quot;stylesheet&quot; href=&quot;https://netdna.bootstrapcdn.com/bootstrap/3.0.0/css/bootstrap.min.css&quot;/&gt;\n",
       "    &lt;link rel=&quot;stylesheet&quot; href=&quot;https://cdn.jsdelivr.net/npm/@fortawesome/fontawesome-free@6.2.0/css/all.min.css&quot;/&gt;\n",
       "    &lt;link rel=&quot;stylesheet&quot; href=&quot;https://cdnjs.cloudflare.com/ajax/libs/Leaflet.awesome-markers/2.0.2/leaflet.awesome-markers.css&quot;/&gt;\n",
       "    &lt;link rel=&quot;stylesheet&quot; href=&quot;https://cdn.jsdelivr.net/gh/python-visualization/folium/folium/templates/leaflet.awesome.rotate.min.css&quot;/&gt;\n",
       "    \n",
       "            &lt;meta name=&quot;viewport&quot; content=&quot;width=device-width,\n",
       "                initial-scale=1.0, maximum-scale=1.0, user-scalable=no&quot; /&gt;\n",
       "            &lt;style&gt;\n",
       "                #map_00737e29e97e0a99d4c6b69d979f1072 {\n",
       "                    position: relative;\n",
       "                    width: 100.0%;\n",
       "                    height: 100.0%;\n",
       "                    left: 0.0%;\n",
       "                    top: 0.0%;\n",
       "                }\n",
       "                .leaflet-container { font-size: 1rem; }\n",
       "            &lt;/style&gt;\n",
       "        \n",
       "&lt;/head&gt;\n",
       "&lt;body&gt;\n",
       "    \n",
       "    \n",
       "            &lt;div class=&quot;folium-map&quot; id=&quot;map_00737e29e97e0a99d4c6b69d979f1072&quot; &gt;&lt;/div&gt;\n",
       "        \n",
       "&lt;/body&gt;\n",
       "&lt;script&gt;\n",
       "    \n",
       "    \n",
       "            var map_00737e29e97e0a99d4c6b69d979f1072 = L.map(\n",
       "                &quot;map_00737e29e97e0a99d4c6b69d979f1072&quot;,\n",
       "                {\n",
       "                    center: [41.806778155800004, -87.62501630635],\n",
       "                    crs: L.CRS.EPSG3857,\n",
       "                    zoom: 14,\n",
       "                    zoomControl: true,\n",
       "                    preferCanvas: false,\n",
       "                }\n",
       "            );\n",
       "\n",
       "            \n",
       "\n",
       "        \n",
       "    \n",
       "            var tile_layer_2f27525660e5c0abd906796ba7123a85 = L.tileLayer(\n",
       "                &quot;https://tile.openstreetmap.org/{z}/{x}/{y}.png&quot;,\n",
       "                {&quot;attribution&quot;: &quot;\\u0026copy; \\u003ca href=\\&quot;https://www.openstreetmap.org/copyright\\&quot;\\u003eOpenStreetMap\\u003c/a\\u003e contributors&quot;, &quot;detectRetina&quot;: false, &quot;maxNativeZoom&quot;: 19, &quot;maxZoom&quot;: 19, &quot;minZoom&quot;: 0, &quot;noWrap&quot;: false, &quot;opacity&quot;: 1, &quot;subdomains&quot;: &quot;abc&quot;, &quot;tms&quot;: false}\n",
       "            );\n",
       "        \n",
       "    \n",
       "            tile_layer_2f27525660e5c0abd906796ba7123a85.addTo(map_00737e29e97e0a99d4c6b69d979f1072);\n",
       "        \n",
       "    \n",
       "            var marker_e2a079cb32799e8f8cff203706843a32 = L.marker(\n",
       "                [41.8129489392, -87.6278596758],\n",
       "                {}\n",
       "            ).addTo(map_00737e29e97e0a99d4c6b69d979f1072);\n",
       "        \n",
       "    \n",
       "            var icon_f0f0cba206a9851695b7b0fc79d0b1eb = L.AwesomeMarkers.icon(\n",
       "                {&quot;extraClasses&quot;: &quot;fa-rotate-0&quot;, &quot;icon&quot;: &quot;home&quot;, &quot;iconColor&quot;: &quot;white&quot;, &quot;markerColor&quot;: &quot;blue&quot;, &quot;prefix&quot;: &quot;glyphicon&quot;}\n",
       "            );\n",
       "            marker_e2a079cb32799e8f8cff203706843a32.setIcon(icon_f0f0cba206a9851695b7b0fc79d0b1eb);\n",
       "        \n",
       "    \n",
       "            var marker_dd216515c820e197eaef4a9a1bd14825 = L.marker(\n",
       "                [41.8129489392, -87.6278596758],\n",
       "                {}\n",
       "            ).addTo(map_00737e29e97e0a99d4c6b69d979f1072);\n",
       "        \n",
       "    \n",
       "            var div_icon_806ebd885065f814d220ffe3d1e0e592 = L.divIcon({&quot;className&quot;: &quot;empty&quot;, &quot;html&quot;: &quot;\\u003cdiv style=\\u0027\\n        display: inline-block;\\n        font-size: 8px;\\n        color: white;\\n        background-color: gray;\\n        border: 1px solid white;\\n        padding: 3px 8px;\\n        border-radius: 5px;\\n        max-width: 150x;\\n        white-space: nowrap;\\n        box-sizing: border-box;\\n    \\u0027\\u003e\\u003cb\\u003eRider i Pickup\\u003c/b\\u003e\\u003c/div\\u003e&quot;});\n",
       "            marker_dd216515c820e197eaef4a9a1bd14825.setIcon(div_icon_806ebd885065f814d220ffe3d1e0e592);\n",
       "        \n",
       "    \n",
       "            var marker_901b0c108cb44e923ea171933fa6d74e = L.marker(\n",
       "                [41.7615779081, -87.5727819867],\n",
       "                {}\n",
       "            ).addTo(map_00737e29e97e0a99d4c6b69d979f1072);\n",
       "        \n",
       "    \n",
       "            var icon_53b7d26c454cfef702b77e80bc04e147 = L.AwesomeMarkers.icon(\n",
       "                {&quot;extraClasses&quot;: &quot;fa-rotate-0&quot;, &quot;icon&quot;: &quot;flag&quot;, &quot;iconColor&quot;: &quot;white&quot;, &quot;markerColor&quot;: &quot;blue&quot;, &quot;prefix&quot;: &quot;glyphicon&quot;}\n",
       "            );\n",
       "            marker_901b0c108cb44e923ea171933fa6d74e.setIcon(icon_53b7d26c454cfef702b77e80bc04e147);\n",
       "        \n",
       "    \n",
       "            var marker_3e18fe766bd817d1ea818dbc06ec48f2 = L.marker(\n",
       "                [41.7615779081, -87.5727819867],\n",
       "                {}\n",
       "            ).addTo(map_00737e29e97e0a99d4c6b69d979f1072);\n",
       "        \n",
       "    \n",
       "            var div_icon_5d22418b5ff6154479e784ffef9b54e4 = L.divIcon({&quot;className&quot;: &quot;empty&quot;, &quot;html&quot;: &quot;\\u003cdiv style=\\u0027\\n        display: inline-block;\\n        font-size: 8px;\\n        color: white;\\n        background-color: gray;\\n        border: 1px solid white;\\n        padding: 3px 8px;\\n        border-radius: 5px;\\n        max-width: 150x;\\n        white-space: nowrap;\\n        box-sizing: border-box;\\n    \\u0027\\u003e\\u003cb\\u003eRider i Dropoff\\u003c/b\\u003e\\u003c/div\\u003e&quot;});\n",
       "            marker_3e18fe766bd817d1ea818dbc06ec48f2.setIcon(div_icon_5d22418b5ff6154479e784ffef9b54e4);\n",
       "        \n",
       "    \n",
       "            var marker_26c067f56a5779333c401c47a3251a72 = L.marker(\n",
       "                [41.8006073724, -87.6221729369],\n",
       "                {}\n",
       "            ).addTo(map_00737e29e97e0a99d4c6b69d979f1072);\n",
       "        \n",
       "    \n",
       "            var icon_ffbd319cd58089cfb89134551f62117f = L.AwesomeMarkers.icon(\n",
       "                {&quot;extraClasses&quot;: &quot;fa-rotate-0&quot;, &quot;icon&quot;: &quot;home&quot;, &quot;iconColor&quot;: &quot;white&quot;, &quot;markerColor&quot;: &quot;red&quot;, &quot;prefix&quot;: &quot;glyphicon&quot;}\n",
       "            );\n",
       "            marker_26c067f56a5779333c401c47a3251a72.setIcon(icon_ffbd319cd58089cfb89134551f62117f);\n",
       "        \n",
       "    \n",
       "            var marker_ab77bb0d5c6e0f86f6344dd3de5ab8bb = L.marker(\n",
       "                [41.8006073724, -87.6221729369],\n",
       "                {}\n",
       "            ).addTo(map_00737e29e97e0a99d4c6b69d979f1072);\n",
       "        \n",
       "    \n",
       "            var div_icon_766185609d0cc61538510f953c94df5b = L.divIcon({&quot;className&quot;: &quot;empty&quot;, &quot;html&quot;: &quot;\\u003cdiv style=\\u0027\\n        display: inline-block;\\n        font-size: 8px;\\n        color: white;\\n        background-color: gray;\\n        border: 1px solid white;\\n        padding: 3px 8px;\\n        border-radius: 5px;\\n        max-width: 150x;\\n        white-space: nowrap;\\n        box-sizing: border-box;\\n    \\u0027\\u003e\\u003cb\\u003eRider j Pickup\\u003c/b\\u003e\\u003c/div\\u003e&quot;});\n",
       "            marker_ab77bb0d5c6e0f86f6344dd3de5ab8bb.setIcon(div_icon_766185609d0cc61538510f953c94df5b);\n",
       "        \n",
       "    \n",
       "            var marker_892c07c81d44c834ce7144edf02a113b = L.marker(\n",
       "                [41.7363101308, -87.5515625922],\n",
       "                {}\n",
       "            ).addTo(map_00737e29e97e0a99d4c6b69d979f1072);\n",
       "        \n",
       "    \n",
       "            var icon_bd05163d45e26698311887ceaf8f3d71 = L.AwesomeMarkers.icon(\n",
       "                {&quot;extraClasses&quot;: &quot;fa-rotate-0&quot;, &quot;icon&quot;: &quot;flag&quot;, &quot;iconColor&quot;: &quot;white&quot;, &quot;markerColor&quot;: &quot;red&quot;, &quot;prefix&quot;: &quot;glyphicon&quot;}\n",
       "            );\n",
       "            marker_892c07c81d44c834ce7144edf02a113b.setIcon(icon_bd05163d45e26698311887ceaf8f3d71);\n",
       "        \n",
       "    \n",
       "            var marker_88c77cf193e67c9345732afd7110b265 = L.marker(\n",
       "                [41.7363101308, -87.5515625922],\n",
       "                {}\n",
       "            ).addTo(map_00737e29e97e0a99d4c6b69d979f1072);\n",
       "        \n",
       "    \n",
       "            var div_icon_4814a66db45e0b8337b075ebde0dd6a5 = L.divIcon({&quot;className&quot;: &quot;empty&quot;, &quot;html&quot;: &quot;\\u003cdiv style=\\u0027\\n        display: inline-block;\\n        font-size: 8px;\\n        color: white;\\n        background-color: gray;\\n        border: 1px solid white;\\n        padding: 3px 8px;\\n        border-radius: 5px;\\n        max-width: 150x;\\n        white-space: nowrap;\\n        box-sizing: border-box;\\n    \\u0027\\u003e\\u003cb\\u003eRider j Dropoff\\u003c/b\\u003e\\u003c/div\\u003e&quot;});\n",
       "            marker_88c77cf193e67c9345732afd7110b265.setIcon(div_icon_4814a66db45e0b8337b075ebde0dd6a5);\n",
       "        \n",
       "    \n",
       "            var poly_line_a905e2afe1b59bc3aff501932e91d626 = L.polyline(\n",
       "                [[41.8129489392, -87.6278596758], [41.8006073724, -87.6221729369], [41.7615779081, -87.5727819867], [41.7363101308, -87.5515625922]],\n",
       "                {&quot;bubblingMouseEvents&quot;: true, &quot;color&quot;: &quot;black&quot;, &quot;dashArray&quot;: null, &quot;dashOffset&quot;: null, &quot;fill&quot;: false, &quot;fillColor&quot;: &quot;black&quot;, &quot;fillOpacity&quot;: 0.2, &quot;fillRule&quot;: &quot;evenodd&quot;, &quot;lineCap&quot;: &quot;round&quot;, &quot;lineJoin&quot;: &quot;round&quot;, &quot;noClip&quot;: false, &quot;opacity&quot;: 1.0, &quot;smoothFactor&quot;: 1.0, &quot;stroke&quot;: true, &quot;weight&quot;: 5}\n",
       "            ).addTo(map_00737e29e97e0a99d4c6b69d979f1072);\n",
       "        \n",
       "    \n",
       "            poly_line_a905e2afe1b59bc3aff501932e91d626.bindTooltip(\n",
       "                `&lt;div&gt;\n",
       "                     IJIJ Route\n",
       "                 &lt;/div&gt;`,\n",
       "                {&quot;sticky&quot;: true}\n",
       "            );\n",
       "        \n",
       "&lt;/script&gt;\n",
       "&lt;/html&gt;\" style=\"position:absolute;width:100%;height:100%;left:0;top:0;border:none !important;\" allowfullscreen webkitallowfullscreen mozallowfullscreen></iframe></div></div>"
      ],
      "text/plain": [
       "<folium.folium.Map at 0x7f4c683b1a30>"
      ]
     },
     "execution_count": 9,
     "metadata": {},
     "output_type": "execute_result"
    }
   ],
   "source": [
    "create_route_map(origin_i, destination_i, origin_j, destination_j, trip_order)"
   ]
  },
  {
   "cell_type": "code",
   "execution_count": null,
   "metadata": {},
   "outputs": [],
   "source": []
  }
 ],
 "metadata": {
  "kernelspec": {
   "display_name": "myenv",
   "language": "python",
   "name": "python3"
  },
  "language_info": {
   "codemirror_mode": {
    "name": "ipython",
    "version": 3
   },
   "file_extension": ".py",
   "mimetype": "text/x-python",
   "name": "python",
   "nbconvert_exporter": "python",
   "pygments_lexer": "ipython3",
   "version": "3.9.16"
  }
 },
 "nbformat": 4,
 "nbformat_minor": 2
}
