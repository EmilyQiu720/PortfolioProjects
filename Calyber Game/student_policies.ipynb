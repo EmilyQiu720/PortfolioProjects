{
 "cells": [
  {
   "cell_type": "markdown",
   "metadata": {
    "cell_id": "87c810da0f5945898e7064d4f754c1e2",
    "deepnote_app_block_visible": true,
    "deepnote_cell_type": "markdown"
   },
   "source": [
    "# Student Policies\n",
    "Now that you know how model cost, conversion, demand, and optimize price and matching, we can move on the final part of this game, **building your policies!**. Below we have set up skeleton code for you to build your policies. Make when you finish to run the last code cell to upload your policy."
   ]
  },
  {
   "cell_type": "code",
   "execution_count": 1,
   "metadata": {
    "cell_id": "2af8f7745edd4bb89bebae9c95be5045",
    "deepnote_app_block_visible": true,
    "deepnote_cell_type": "code",
    "execution_context_id": "14f7ec84-92ec-465f-8b40-dada3f676e41",
    "execution_millis": 422,
    "execution_start": 1732062905070,
    "source_hash": "f6efe1c7"
   },
   "outputs": [],
   "source": [
    "# Load in all your libraries and packages here!\n",
    "# NOTE: you are allowed to use packages loaded below ONLY. If you want to use any other packages, please contact the TA.\n",
    "import pandas as pd\n",
    "import numpy as np\n",
    "import itertools\n",
    "import math\n",
    "import random\n",
    "import copy\n",
    "import time\n",
    "import pandas as pd\n",
    "import haversine\n",
    "# from haversine import haversine\n",
    "import unittest\n",
    "import pickle\n",
    "import collections\n",
    "\n",
    "from utils import * # this imports all helper functions in utils.py\n",
    "\n",
    "# TODO: Replace the string \"TeamName\" below with your own team's name in camel case. For e.g. \"AwesomeTeam\"\n",
    "# DO NOT RENAME THE FILE, the file name should be \"{TEAM_NAME}_Policies.py\"\n",
    "TEAM_NAME = \"poop\""
   ]
  },
  {
   "cell_type": "markdown",
   "metadata": {},
   "source": [
    "# Offline Learning"
   ]
  },
  {
   "cell_type": "markdown",
   "metadata": {},
   "source": [
    "## Pricing Policy Part"
   ]
  },
  {
   "cell_type": "code",
   "execution_count": 2,
   "metadata": {},
   "outputs": [],
   "source": [
    "import glob\n",
    "\n",
    "# Define price bins clearly\n",
    "price_bins = [(0.48,0.54),(0.54,0.6),(0.6,0.65),(0.65,0.7),(0.7,0.75),(0.75,0.8)]\n",
    "\n",
    "# Initialize alpha-beta distributions\n",
    "alpha = collections.defaultdict(lambda: 1)\n",
    "beta = collections.defaultdict(lambda: 1)\n",
    "\n",
    "global_alpha = [1] * len(price_bins)\n",
    "global_beta = [1] * len(price_bins)\n",
    "\n",
    "agg_alpha_by_pickup = collections.defaultdict(lambda: [1]*len(price_bins))\n",
    "agg_beta_by_pickup = collections.defaultdict(lambda: [1]*len(price_bins))\n",
    "\n",
    "agg_alpha_by_dropoff = collections.defaultdict(lambda: [1]*len(price_bins))\n",
    "agg_beta_by_dropoff = collections.defaultdict(lambda: [1]*len(price_bins))\n",
    "\n",
    "def assign_arm(price):\n",
    "    for idx, (low, high) in enumerate(price_bins):\n",
    "        if low <= price < high:\n",
    "            return idx\n",
    "    return len(price_bins)-1\n",
    "\n",
    "def discretize_state_size(size):\n",
    "    return '0' if size==0 else '1-4' if size<=4 else '5-10' if size<=10 else '11+'\n",
    "\n",
    "def discretize_avg_wait(wait):\n",
    "    return '0-30' if wait<=30 else '31-100' if wait<=100 else '100+'\n",
    "\n",
    "# Load weekly files separately\n",
    "weeks_converted = sorted(glob.glob('data/week_*_converted_with_state.csv'))\n",
    "weeks_non_converted = sorted(glob.glob('data/week_*_convert_0.csv'))\n",
    "\n",
    "# iterate week by week explicitly\n",
    "for week_idx, (conv_file, nonconv_file) in enumerate(zip(weeks_converted, weeks_non_converted), start=1):\n",
    "\n",
    "    df_converted = pd.read_csv(conv_file)\n",
    "    df_non_converted = pd.read_csv(nonconv_file)\n",
    "\n",
    "    df_converted['convert_or_not'] = 1\n",
    "    df_non_converted['convert_or_not'] = 0\n",
    "\n",
    "    # Concatenate and sort this week's data explicitly\n",
    "    df_week = pd.concat([df_converted, df_non_converted], ignore_index=True)\n",
    "    df_week = df_week.sort_values(by='arrival_time').reset_index(drop=True)\n",
    "\n",
    "    # Step 3: Explicitly RESET STATE EACH WEEK\n",
    "    state = {}  # reset here explicitly (important)\n",
    "\n",
    "    # Iterate clearly through riders of current week\n",
    "    for idx, row in df_week.iterrows():\n",
    "        t_now = row['arrival_time']  # continuous time is fine\n",
    "        \n",
    "        # Remove riders whose patience expired explicitly\n",
    "        state = {rid: (arr, pat) for rid, (arr, pat) in state.items() if (t_now - arr) < pat}\n",
    "\n",
    "        # Define context explicitly (with reset weekly state)\n",
    "        context = (\n",
    "            row['pickup_area'],\n",
    "            row['dropoff_area'],\n",
    "            discretize_state_size(len(state)),\n",
    "            discretize_avg_wait(np.mean([t_now - arr for arr, _ in state.values()]) if state else 0)\n",
    "        )\n",
    "\n",
    "        # Update alpha-beta based on observed conversions clearly\n",
    "        arm = assign_arm(row['quoted_price'])\n",
    "        converted = row['convert_or_not']\n",
    "        \n",
    "        if converted:\n",
    "            alpha[(context, arm)] += 1\n",
    "            global_alpha[arm] += 1\n",
    "            agg_alpha_by_pickup[row['pickup_area']][arm] +=1\n",
    "            agg_alpha_by_dropoff[row['dropoff_area']][arm] +=1\n",
    "            if row['waiting_time'] > 0:\n",
    "                state[row['rider_id']] = (t_now, row['waiting_time'])\n",
    "        else:\n",
    "            beta[(context, arm)] += 1\n",
    "            global_beta[arm] += 1\n",
    "            agg_beta_by_pickup[row['pickup_area']][arm] +=1\n",
    "            agg_beta_by_dropoff[row['dropoff_area']][arm] += 1"
   ]
  },
  {
   "cell_type": "markdown",
   "metadata": {},
   "source": [
    "## Matching Policy Part"
   ]
  },
  {
   "cell_type": "code",
   "execution_count": 3,
   "metadata": {},
   "outputs": [],
   "source": [
    "MAX_POOL = 180 # 3-mins pairs\n",
    "COST_PM = 0.7\n",
    "BASE_PRICE_FALLBACK = 0.65\n",
    "base_price = pd.read_csv('base_price_table.csv')\n",
    "\n",
    "def pair_profit(r1, r2, cache):\n",
    "    key = (r1._uid, r2._uid) if r1._uid < r2._uid else (r2._uid, r1._uid)\n",
    "    if key not in cache:\n",
    "        trip, *_ = populate_shared_ride_lengths(\n",
    "            (r1.pickup_lat,  r1.pickup_lon), (r1.dropoff_lat, r1.dropoff_lon),\n",
    "            (r2.pickup_lat,  r2.pickup_lon), (r2.dropoff_lat, r2.dropoff_lon)\n",
    "        )\n",
    "        cache[key] = trip\n",
    "    else:\n",
    "        trip = cache[key]\n",
    "\n",
    "    if trip == 0:\n",
    "        return -math.inf\n",
    "    \n",
    "    match1 = base_price.loc[(base_price[\"pickup_area\"] == r1.pickup_area) &\n",
    "                            (base_price[\"dropoff_area\"] == r1.dropoff_area),\n",
    "                            \"base_price\"]\n",
    "    match2 = base_price.loc[(base_price[\"pickup_area\"] == r2.pickup_area) &\n",
    "                            (base_price[\"dropoff_area\"] == r2.dropoff_area),\n",
    "                            \"base_price\"]\n",
    "\n",
    "    # if the pair exists, take the scalar; otherwise fall back (e.g. 0.65)\n",
    "    quoted_price_1 = match1.iat[0] if len(match1) else BASE_PRICE_FALLBACK\n",
    "    quoted_price_2 = match2.iat[0] if len(match2) else BASE_PRICE_FALLBACK\n",
    "\n",
    "    rev  = quoted_price_1 * r1.solo_length + quoted_price_2 * r2.solo_length\n",
    "    return rev - COST_PM * trip"
   ]
  },
  {
   "cell_type": "markdown",
   "metadata": {
    "cell_id": "84d8b316334a4afda77dbb6bef4da03c",
    "deepnote_app_block_visible": true,
    "deepnote_cell_type": "text-cell-h1",
    "formattedRanges": []
   },
   "source": [
    "# Pricing Policy"
   ]
  },
  {
   "cell_type": "markdown",
   "metadata": {
    "cell_id": "dc4405bcb26d40fd8127f35cab261c2c",
    "deepnote_app_block_visible": true,
    "deepnote_cell_type": "markdown"
   },
   "source": [
    "Feel free to add more functions to `StudentPricingPolicy` but **DO NOT** modify the initalization and static methods. Your code will only be graded based on the output of your pricing function."
   ]
  },
  {
   "cell_type": "code",
   "execution_count": 4,
   "metadata": {},
   "outputs": [],
   "source": [
    "class StudentPricingPolicy:\n",
    "    # DO NOT MODIFY\n",
    "    def __init__(self, c = 0.70):\n",
    "        self.c = c\n",
    "\n",
    "    # DO NOT MODIFY\n",
    "    @staticmethod\n",
    "    def get_name():\n",
    "        return TEAM_NAME\n",
    "\n",
    "    def pricing_function(self, state, rider):\n",
    "        \"\"\"\n",
    "        Returns the price of the given rider in the given state\n",
    "\n",
    "        Parameters\n",
    "        ----------\n",
    "        state: list\n",
    "            list of rider(s) (object) waiting in the state\n",
    "        rider: object\n",
    "            An incoming rider\n",
    "\n",
    "        Returns\n",
    "        -------\n",
    "        float\n",
    "            The price of the rider: must be in [0, 1]\n",
    "        \"\"\"\n",
    "        pickup_area = rider.pickup_area\n",
    "        dropoff_area = rider.dropoff_area\n",
    "        state_size = discretize_state_size(len(state))\n",
    "        avg_wait = np.mean([getattr(r, 'waiting_time', 0) or 0 for r in state]) if state else 0\n",
    "        \n",
    "        exact_context = (pickup_area, dropoff_area, state_size, avg_wait)\n",
    "        context_seen = any((exact_context, arm) in alpha for arm in range(len(price_bins)))\n",
    "        \n",
    "        # If exact context seen before, use it explicitly\n",
    "        if context_seen:\n",
    "            context_to_use = exact_context\n",
    "            samples = [\n",
    "                (np.random.beta(alpha[(context_to_use, arm)], beta[(context_to_use, arm)]), arm)\n",
    "                for arm in range(len(price_bins))\n",
    "            ]\n",
    "\n",
    "            # Sort samples descending by value\n",
    "            top_k = sorted(samples, reverse=True)[:2]\n",
    "            # Take the average of the prices of top-k arms\n",
    "            top_prices = [np.mean(price_bins[arm]) for _, arm in top_k]\n",
    "\n",
    "            return np.mean(top_prices)\n",
    "\n",
    "        else:\n",
    "            if pickup_area in agg_alpha_by_pickup:\n",
    "                a_pick = agg_alpha_by_pickup[pickup_area]\n",
    "                b_pick = agg_beta_by_pickup[pickup_area]\n",
    "            else:\n",
    "                a_pick = [1] * len(price_bins)\n",
    "                b_pick = [1] * len(price_bins)\n",
    "\n",
    "            if dropoff_area in agg_alpha_by_dropoff:\n",
    "                a_drop = agg_alpha_by_dropoff[dropoff_area]\n",
    "                b_drop = agg_beta_by_dropoff[dropoff_area]\n",
    "            else:\n",
    "                a_drop = [1] * len(price_bins)\n",
    "                b_drop = [1] * len(price_bins)\n",
    "\n",
    "            a_combined = [(a1 + a2)/2 for a1, a2 in zip(a_pick, a_drop)]\n",
    "            b_combined = [(b1 + b2)/2 for b1, b2 in zip(b_pick, b_drop)]\n",
    "\n",
    "            # Thompson Sampling\n",
    "            samples = [np.random.beta(a, b) for a, b in zip(a_combined, b_combined)]\n",
    "            best_arm = np.argmax(samples)\n",
    "                            \n",
    "            return np.mean(price_bins[best_arm])"
   ]
  },
  {
   "cell_type": "markdown",
   "metadata": {
    "cell_id": "313f776937434e97a8e8b6d1ca4a2132",
    "deepnote_app_block_visible": true,
    "deepnote_cell_type": "text-cell-h1",
    "formattedRanges": []
   },
   "source": [
    "# Matching Policy"
   ]
  },
  {
   "cell_type": "markdown",
   "metadata": {
    "cell_id": "3d538ff3a3954445a0a1c8501b1913f6",
    "deepnote_app_block_visible": true,
    "deepnote_cell_type": "markdown"
   },
   "source": [
    "Again, feel free to add more functions to `StudentMatchingPolicy` but **DO NOT** modify the initalization and static methods. Your code will only be graded based on the output of your matching function."
   ]
  },
  {
   "cell_type": "code",
   "execution_count": 5,
   "metadata": {
    "cell_id": "d634c3e5a46c47de9a18b113184e87f6",
    "deepnote_app_block_visible": true,
    "deepnote_cell_type": "code",
    "execution_context_id": "aed12d1b-ca25-48a6-b356-f07b340c33cb",
    "execution_millis": 1,
    "execution_start": 1732077235490,
    "source_hash": "b7f403ab"
   },
   "outputs": [],
   "source": [
    "class StudentMatchingPolicy:\n",
    "    # DO NOT MODIFY\n",
    "    def __init__(self, c = 0.70):\n",
    "        self.c = c\n",
    "\n",
    "    # DO NOT MODIFY\n",
    "    @staticmethod\n",
    "    def get_name():\n",
    "        return TEAM_NAME\n",
    "    \n",
    "    def _ensure_uid(self, r):\n",
    "        if not hasattr(r, \"_uid\"):\n",
    "            r._uid = self._uid_seq\n",
    "            self._uid_seq += 1\n",
    "\n",
    "    def matching_function(self, state, rider):\n",
    "        \"\"\"\n",
    "        Returns the matched rider or None is there is no match\n",
    "\n",
    "        Parameters\n",
    "        ----------\n",
    "        state: list\n",
    "            list of rider(s) (object) waiting in the state\n",
    "        rider: object\n",
    "            An incoming rider\n",
    "\n",
    "        Returns\n",
    "        -------\n",
    "        rider or None:\n",
    "            Returns a matched rider (object) or None\n",
    "        \"\"\"\n",
    "        \"\"\"\n",
    "        O(n) system‑aware greedy; uses a persistent distance cache\n",
    "        and updates best_alt incrementally.\n",
    "        \"\"\"\n",
    "        if not hasattr(self, \"_dist_cache\"):\n",
    "            self._dist_cache = {}\n",
    "            self._best_alt   = {}\n",
    "            self._uid_seq    = 0\n",
    "\n",
    "        if not state:\n",
    "            return None\n",
    "        \n",
    "        # give uids to everyone\n",
    "        for r in state + [rider]:\n",
    "            self._ensure_uid(r)\n",
    "\n",
    "        # --- newest ≤ MAX_POOL riders ---\n",
    "        pool = state[-MAX_POOL:] if len(state) > MAX_POOL else state\n",
    "\n",
    "        # --- ensure best_alt entries exist ---\n",
    "        for w in pool:\n",
    "            self._best_alt.setdefault(w._uid, -1.0)\n",
    "\n",
    "        best_partner, best_gain = None, 0\n",
    "\n",
    "        for w in pool:\n",
    "            pf = pair_profit(rider, w, self._dist_cache)        \n",
    "            gain = pf - self._best_alt[w._uid]\n",
    "\n",
    "            # update w's alternative if this new profit is better\n",
    "            if pf > self._best_alt[w._uid]:\n",
    "                self._best_alt[w._uid] = pf\n",
    "\n",
    "            if gain > best_gain:\n",
    "                best_gain, best_partner = gain, w\n",
    "\n",
    "        self._best_alt[rider._uid] = 0        # register rider for future\n",
    "        return best_partner if best_gain > 0 else None"
   ]
  },
  {
   "cell_type": "markdown",
   "metadata": {
    "cell_id": "d3a0351a285a48098886137db23ce13f",
    "deepnote_app_block_visible": true,
    "deepnote_cell_type": "text-cell-h1",
    "formattedRanges": []
   },
   "source": [
    "# Testing your Code"
   ]
  },
  {
   "cell_type": "markdown",
   "metadata": {
    "cell_id": "8a8b1fd2dc1b4278a2dbdc3def881b60",
    "deepnote_app_block_visible": true,
    "deepnote_cell_type": "markdown"
   },
   "source": [
    "Use the function below to test your policies. This output will only tell you the price and matching result from your policies.\n",
    "\n",
    "The test examples consist of 4 states and 1 incoming rider:\n",
    "- Four States: These represent states with 0, 8, 35, and 77 waiting requests, respectively. Each state is created by aggregating all arriving riders within random time windows of 0 seconds, 15 seconds, 1 minute, and 2 minutes from the training data.\n",
    "- Incoming Rider: This rider is randomly sampled from the training data."
   ]
  },
  {
   "cell_type": "code",
   "execution_count": 6,
   "metadata": {},
   "outputs": [
    {
     "name": "stdout",
     "output_type": "stream",
     "text": [
      "\n",
      "=============== Pricing at State 0 (0 waiting requests) ===============\n",
      "Pricing decision: 0.77500.\n",
      "Execution time of the pricing function is 0.00016 seconds.\n",
      "\n",
      "=============== Matching at State 0 (0 waiting requests) ===============\n",
      "Matching decision: do not match.\n",
      "Execution time of the matching function is 0.00000 seconds.\n",
      "\n",
      "=============== Pricing at State 1 (8 waiting requests) ===============\n",
      "Pricing decision: 0.77500.\n",
      "Execution time of the pricing function is 0.00006 seconds.\n",
      "\n",
      "=============== Matching at State 1 (8 waiting requests) ===============\n",
      "Matching decision: match the incoming rider with a waiting request.\n",
      "Execution time of the matching function is 0.00439 seconds.\n",
      "\n",
      "=============== Pricing at State 2 (35 waiting requests) ===============\n",
      "Pricing decision: 0.77500.\n",
      "Execution time of the pricing function is 0.00006 seconds.\n",
      "\n",
      "=============== Matching at State 2 (35 waiting requests) ===============\n",
      "Matching decision: match the incoming rider with a waiting request.\n",
      "Execution time of the matching function is 0.01603 seconds.\n",
      "\n",
      "=============== Pricing at State 3 (77 waiting requests) ===============\n",
      "Pricing decision: 0.77500.\n",
      "Execution time of the pricing function is 0.00009 seconds.\n",
      "\n",
      "=============== Matching at State 3 (77 waiting requests) ===============\n",
      "Matching decision: match the incoming rider with a waiting request.\n",
      "Execution time of the matching function is 0.03369 seconds.\n"
     ]
    }
   ],
   "source": [
    "from utils import test_policies\n",
    "test_policies(StudentPricingPolicy, StudentMatchingPolicy)"
   ]
  },
  {
   "cell_type": "markdown",
   "metadata": {
    "cell_id": "c4d3637dd2794bf0974c38a4925aef47",
    "deepnote_app_block_visible": true,
    "deepnote_cell_type": "text-cell-h2",
    "formattedRanges": []
   },
   "source": [
    "## Congrats! You finished!"
   ]
  },
  {
   "cell_type": "markdown",
   "metadata": {
    "cell_id": "f0916355d78e4ddaa6abd3513f668457",
    "deepnote_app_block_visible": true,
    "deepnote_cell_type": "markdown"
   },
   "source": [
    "Once you have completed this notebook, you can run the following command to export your notebook to a python script. Make sure to submit only `{TEAM_NAME}_Policies.py` file. Please do not edit anything!"
   ]
  },
  {
   "cell_type": "code",
   "execution_count": 7,
   "metadata": {
    "cell_id": "3663fa94bcf5496184ecb1cdc00eb8c9",
    "deepnote_app_block_visible": true,
    "deepnote_cell_type": "code",
    "execution_context_id": "aed12d1b-ca25-48a6-b356-f07b340c33cb",
    "execution_millis": 1031,
    "execution_start": 1732077240720,
    "source_hash": "44b4e91e"
   },
   "outputs": [
    {
     "name": "stderr",
     "output_type": "stream",
     "text": [
      "[NbConvertApp] Converting notebook student_policies.ipynb to script\n"
     ]
    },
    {
     "name": "stdout",
     "output_type": "stream",
     "text": [
      "Converted student_policies.ipynb to poop_Policies.py successfully, and removed print statements!\n"
     ]
    },
    {
     "name": "stderr",
     "output_type": "stream",
     "text": [
      "[NbConvertApp] Writing 11606 bytes to student_policies.py\n"
     ]
    }
   ],
   "source": [
    "# DO NOT MODIFY\n",
    "from utils import export_notebook\n",
    "# export the notebook as a .py file with name of \"{TEAM_NAME}_Policies.py\"\n",
    "export_notebook(TEAM_NAME)"
   ]
  }
 ],
 "metadata": {
  "deepnote_app_layout": "powerful-article",
  "deepnote_app_reactivity_enabled": true,
  "deepnote_full_width": false,
  "deepnote_notebook_id": "b83207801353414cbff7de9530e628d7",
  "deepnote_persisted_session": {
   "createdAt": "2024-11-20T04:50:13.896Z"
  },
  "kernelspec": {
   "display_name": "Python 3 (ipykernel)",
   "language": "python",
   "name": "python3"
  },
  "language_info": {
   "codemirror_mode": {
    "name": "ipython",
    "version": 3
   },
   "file_extension": ".py",
   "mimetype": "text/x-python",
   "name": "python",
   "nbconvert_exporter": "python",
   "pygments_lexer": "ipython3",
   "version": "3.9.19"
  }
 },
 "nbformat": 4,
 "nbformat_minor": 1
}
